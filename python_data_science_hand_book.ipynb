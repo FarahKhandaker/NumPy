{
  "nbformat": 4,
  "nbformat_minor": 0,
  "metadata": {
    "colab": {
      "name": "python_data_science_hand_book.ipynb",
      "provenance": []
    },
    "kernelspec": {
      "name": "python3",
      "display_name": "Python 3"
    },
    "language_info": {
      "name": "python"
    },
    "accelerator": "GPU"
  },
  "cells": [
    {
      "cell_type": "code",
      "metadata": {
        "id": "60Rq4ET2n8NP"
      },
      "source": [
        "import numpy"
      ],
      "execution_count": 140,
      "outputs": []
    },
    {
      "cell_type": "code",
      "metadata": {
        "id": "KTJM-kGOoHEN"
      },
      "source": [
        "import numpy as np"
      ],
      "execution_count": 141,
      "outputs": []
    },
    {
      "cell_type": "code",
      "metadata": {
        "colab": {
          "base_uri": "https://localhost:8080/"
        },
        "id": "R2xarmBHoON9",
        "outputId": "6ee2a5c3-b3bf-481a-8e23-dd7fc310777c"
      },
      "source": [
        "L = list(range(10)) #integer\n",
        "L "
      ],
      "execution_count": 142,
      "outputs": [
        {
          "output_type": "execute_result",
          "data": {
            "text/plain": [
              "[0, 1, 2, 3, 4, 5, 6, 7, 8, 9]"
            ]
          },
          "metadata": {},
          "execution_count": 142
        }
      ]
    },
    {
      "cell_type": "code",
      "metadata": {
        "colab": {
          "base_uri": "https://localhost:8080/"
        },
        "id": "ocM5kte2qQiW",
        "outputId": "9dbf9558-8016-4863-aadf-9e7980a2e9a9"
      },
      "source": [
        "type(L[0]) "
      ],
      "execution_count": 143,
      "outputs": [
        {
          "output_type": "execute_result",
          "data": {
            "text/plain": [
              "int"
            ]
          },
          "metadata": {},
          "execution_count": 143
        }
      ]
    },
    {
      "cell_type": "code",
      "metadata": {
        "colab": {
          "base_uri": "https://localhost:8080/"
        },
        "id": "7t0CMwWvqVrs",
        "outputId": "d116e1ee-8c26-4e7e-e490-70945e538f76"
      },
      "source": [
        "L2 = [str(c) for c in L] #string\n",
        "L2"
      ],
      "execution_count": 144,
      "outputs": [
        {
          "output_type": "execute_result",
          "data": {
            "text/plain": [
              "['0', '1', '2', '3', '4', '5', '6', '7', '8', '9']"
            ]
          },
          "metadata": {},
          "execution_count": 144
        }
      ]
    },
    {
      "cell_type": "code",
      "metadata": {
        "colab": {
          "base_uri": "https://localhost:8080/"
        },
        "id": "3IX-YBriq9iW",
        "outputId": "57d64ec6-50b3-4883-fa52-c8950f837e6b"
      },
      "source": [
        "type(L2[0])"
      ],
      "execution_count": 145,
      "outputs": [
        {
          "output_type": "execute_result",
          "data": {
            "text/plain": [
              "str"
            ]
          },
          "metadata": {},
          "execution_count": 145
        }
      ]
    },
    {
      "cell_type": "code",
      "metadata": {
        "colab": {
          "base_uri": "https://localhost:8080/"
        },
        "id": "sy5HHS11rErd",
        "outputId": "85e06891-f6a3-43ff-a3a5-d217f918ea73"
      },
      "source": [
        "#Because of Python’s dynamic typing, we can even create heterogeneous lists:\n",
        "L3 = [True, '2', 3.0, 4]\n",
        "[type(item) for item in L3]"
      ],
      "execution_count": 146,
      "outputs": [
        {
          "output_type": "execute_result",
          "data": {
            "text/plain": [
              "[bool, str, float, int]"
            ]
          },
          "metadata": {},
          "execution_count": 146
        }
      ]
    },
    {
      "cell_type": "code",
      "metadata": {
        "colab": {
          "base_uri": "https://localhost:8080/"
        },
        "id": "B4maGIS-tSlP",
        "outputId": "9b2950ed-0e39-455b-9a55-ae30dc1ba4e4"
      },
      "source": [
        "#Fixed-Type Arrays in Python ]\n",
        "import array\n",
        "L = list(range(10))\n",
        "A = array.array ('i', L) #'i' is a type code indicating the contents are integers\n",
        "A"
      ],
      "execution_count": 147,
      "outputs": [
        {
          "output_type": "execute_result",
          "data": {
            "text/plain": [
              "array('i', [0, 1, 2, 3, 4, 5, 6, 7, 8, 9])"
            ]
          },
          "metadata": {},
          "execution_count": 147
        }
      ]
    },
    {
      "cell_type": "code",
      "metadata": {
        "id": "eynZkE8Ct0el"
      },
      "source": [
        "#NumPy import\n",
        "import numpy as np"
      ],
      "execution_count": 148,
      "outputs": []
    },
    {
      "cell_type": "code",
      "metadata": {
        "colab": {
          "base_uri": "https://localhost:8080/"
        },
        "id": "q7OAaQvxuW8W",
        "outputId": "cf65be72-5a30-4043-f06c-26262b7e8f74"
      },
      "source": [
        "# integer array: \n",
        "np.array([1, 4, 2, 5, 3])"
      ],
      "execution_count": 149,
      "outputs": [
        {
          "output_type": "execute_result",
          "data": {
            "text/plain": [
              "array([1, 4, 2, 5, 3])"
            ]
          },
          "metadata": {},
          "execution_count": 149
        }
      ]
    },
    {
      "cell_type": "code",
      "metadata": {
        "colab": {
          "base_uri": "https://localhost:8080/"
        },
        "id": "vedRoF80td9d",
        "outputId": "965ef356-bedd-4a9c-bc5b-15532048b2e1"
      },
      "source": [
        "np.array([3.14, 4, 2, 3]) # floating array: "
      ],
      "execution_count": 150,
      "outputs": [
        {
          "output_type": "execute_result",
          "data": {
            "text/plain": [
              "array([3.14, 4.  , 2.  , 3.  ])"
            ]
          },
          "metadata": {},
          "execution_count": 150
        }
      ]
    },
    {
      "cell_type": "code",
      "metadata": {
        "colab": {
          "base_uri": "https://localhost:8080/"
        },
        "id": "-Qh5lGv_uqqm",
        "outputId": "cf7071e8-86a4-4dca-d34b-8a7d416e8393"
      },
      "source": [
        "#dtype keyword\n",
        "np.array([1, 2, 3, 4], dtype='float32') "
      ],
      "execution_count": 151,
      "outputs": [
        {
          "output_type": "execute_result",
          "data": {
            "text/plain": [
              "array([1., 2., 3., 4.], dtype=float32)"
            ]
          },
          "metadata": {},
          "execution_count": 151
        }
      ]
    },
    {
      "cell_type": "code",
      "metadata": {
        "colab": {
          "base_uri": "https://localhost:8080/"
        },
        "id": "jXPGRM-VvOUe",
        "outputId": "c43b0e3e-b228-49b9-ea64-4d7442a92f6d"
      },
      "source": [
        "# nested lists result in multidimensional arrays \n",
        "np.array([range(i, i + 3) for i in [2, 4, 6]])"
      ],
      "execution_count": 152,
      "outputs": [
        {
          "output_type": "execute_result",
          "data": {
            "text/plain": [
              "array([[2, 3, 4],\n",
              "       [4, 5, 6],\n",
              "       [6, 7, 8]])"
            ]
          },
          "metadata": {},
          "execution_count": 152
        }
      ]
    },
    {
      "cell_type": "code",
      "metadata": {
        "colab": {
          "base_uri": "https://localhost:8080/"
        },
        "id": "myV2KNJzvpbW",
        "outputId": "6dc4cd06-1f64-417c-d575-4b6136af98dd"
      },
      "source": [
        "# Create a length-10 integer array filled with zeros \n",
        "np.zeros(10, dtype=int)"
      ],
      "execution_count": 153,
      "outputs": [
        {
          "output_type": "execute_result",
          "data": {
            "text/plain": [
              "array([0, 0, 0, 0, 0, 0, 0, 0, 0, 0])"
            ]
          },
          "metadata": {},
          "execution_count": 153
        }
      ]
    },
    {
      "cell_type": "code",
      "metadata": {
        "colab": {
          "base_uri": "https://localhost:8080/"
        },
        "id": "g8ZefPEQvwKe",
        "outputId": "cd3858f4-5e37-47c5-b60e-83a738541406"
      },
      "source": [
        "# Create a 3x5 floating-point array filled with 1s \n",
        "np.ones((3, 5), dtype=float) "
      ],
      "execution_count": 154,
      "outputs": [
        {
          "output_type": "execute_result",
          "data": {
            "text/plain": [
              "array([[1., 1., 1., 1., 1.],\n",
              "       [1., 1., 1., 1., 1.],\n",
              "       [1., 1., 1., 1., 1.]])"
            ]
          },
          "metadata": {},
          "execution_count": 154
        }
      ]
    },
    {
      "cell_type": "code",
      "metadata": {
        "colab": {
          "base_uri": "https://localhost:8080/"
        },
        "id": "_U-FmYttwASn",
        "outputId": "80a3eb05-dd93-44eb-aea9-286521542bba"
      },
      "source": [
        "# Create a 3x5 array filled with 3.14 \n",
        "np.full((3, 5), 3.14) "
      ],
      "execution_count": 155,
      "outputs": [
        {
          "output_type": "execute_result",
          "data": {
            "text/plain": [
              "array([[3.14, 3.14, 3.14, 3.14, 3.14],\n",
              "       [3.14, 3.14, 3.14, 3.14, 3.14],\n",
              "       [3.14, 3.14, 3.14, 3.14, 3.14]])"
            ]
          },
          "metadata": {},
          "execution_count": 155
        }
      ]
    },
    {
      "cell_type": "code",
      "metadata": {
        "colab": {
          "base_uri": "https://localhost:8080/"
        },
        "id": "ZHiron6LwGtG",
        "outputId": "27634636-bc58-43ce-a5d8-ad12017613ad"
      },
      "source": [
        " # Create an array filled with a linear sequence \n",
        " # Starting at 0, ending at 20, stepping by 2 \n",
        " # (this is similar to the built-in range() function)  \n",
        " np.arange(0, 20, 2)"
      ],
      "execution_count": 156,
      "outputs": [
        {
          "output_type": "execute_result",
          "data": {
            "text/plain": [
              "array([ 0,  2,  4,  6,  8, 10, 12, 14, 16, 18])"
            ]
          },
          "metadata": {},
          "execution_count": 156
        }
      ]
    },
    {
      "cell_type": "code",
      "metadata": {
        "colab": {
          "base_uri": "https://localhost:8080/"
        },
        "id": "HMhbW0JfwdRm",
        "outputId": "c85534ff-e9df-4c88-db69-e15782374b74"
      },
      "source": [
        "# Create an array of five values evenly spaced between 0 and 1  \n",
        "np.linspace(0, 1, 5)"
      ],
      "execution_count": 157,
      "outputs": [
        {
          "output_type": "execute_result",
          "data": {
            "text/plain": [
              "array([0.  , 0.25, 0.5 , 0.75, 1.  ])"
            ]
          },
          "metadata": {},
          "execution_count": 157
        }
      ]
    },
    {
      "cell_type": "code",
      "metadata": {
        "colab": {
          "base_uri": "https://localhost:8080/"
        },
        "id": "Ut84e5UJxptX",
        "outputId": "afb569c2-015f-4720-adf3-daffb85f466c"
      },
      "source": [
        "# Create a 3x3 array of uniformly distributed \n",
        "# random values between 0 and 1 \n",
        "np.random.random((3, 3)) "
      ],
      "execution_count": 158,
      "outputs": [
        {
          "output_type": "execute_result",
          "data": {
            "text/plain": [
              "array([[0.07452786, 0.41843762, 0.99939192],\n",
              "       [0.66974416, 0.54717434, 0.82711104],\n",
              "       [0.23097044, 0.16283152, 0.27950484]])"
            ]
          },
          "metadata": {},
          "execution_count": 158
        }
      ]
    },
    {
      "cell_type": "code",
      "metadata": {
        "colab": {
          "base_uri": "https://localhost:8080/"
        },
        "id": "90DFW-m_xyrH",
        "outputId": "dec71dea-3e85-4be1-ae2b-434d0cdedc5e"
      },
      "source": [
        "# Create a 3x3 array of normally distributed random values \n",
        "# with mean 0 and standard deviation 1 \n",
        "np.random.normal(0, 1, (3, 3)) "
      ],
      "execution_count": 159,
      "outputs": [
        {
          "output_type": "execute_result",
          "data": {
            "text/plain": [
              "array([[ 8.42431755e-01,  1.76962716e-01,  5.69935192e-01],\n",
              "       [ 5.36120260e-01, -6.06590243e-01,  2.71780856e-01],\n",
              "       [-1.70949422e-03,  1.76522143e+00,  2.99579864e-01]])"
            ]
          },
          "metadata": {},
          "execution_count": 159
        }
      ]
    },
    {
      "cell_type": "code",
      "metadata": {
        "colab": {
          "base_uri": "https://localhost:8080/"
        },
        "id": "TdZKWbfsyFu3",
        "outputId": "33b8c3bb-4faa-4d82-de06-926f2786e9b9"
      },
      "source": [
        " # Create a 3x3 array of random integers in the interval [0, 10)  \n",
        " np.random.randint(0, 10, (3, 3))"
      ],
      "execution_count": 160,
      "outputs": [
        {
          "output_type": "execute_result",
          "data": {
            "text/plain": [
              "array([[5, 8, 4],\n",
              "       [5, 7, 4],\n",
              "       [0, 2, 4]])"
            ]
          },
          "metadata": {},
          "execution_count": 160
        }
      ]
    },
    {
      "cell_type": "code",
      "metadata": {
        "colab": {
          "base_uri": "https://localhost:8080/"
        },
        "id": "egQNiQIbyMy-",
        "outputId": "66b7a7b5-ee27-4f4c-990d-fe71d7ee4b5b"
      },
      "source": [
        "# Create a 3x3 identity matrix \n",
        "np.eye(3)"
      ],
      "execution_count": 161,
      "outputs": [
        {
          "output_type": "execute_result",
          "data": {
            "text/plain": [
              "array([[1., 0., 0.],\n",
              "       [0., 1., 0.],\n",
              "       [0., 0., 1.]])"
            ]
          },
          "metadata": {},
          "execution_count": 161
        }
      ]
    },
    {
      "cell_type": "code",
      "metadata": {
        "colab": {
          "base_uri": "https://localhost:8080/"
        },
        "id": "vUhieKmjx8Zv",
        "outputId": "479907f3-a6b6-4a9f-b515-87baa6b01dff"
      },
      "source": [
        "# Create an uninitialized array of three integers  \n",
        "# The values will be whatever happens to already exist at that  \n",
        "# memory location \n",
        "np.empty(3)"
      ],
      "execution_count": 162,
      "outputs": [
        {
          "output_type": "execute_result",
          "data": {
            "text/plain": [
              "array([1., 1., 1.])"
            ]
          },
          "metadata": {},
          "execution_count": 162
        }
      ]
    },
    {
      "cell_type": "code",
      "metadata": {
        "colab": {
          "base_uri": "https://localhost:8080/"
        },
        "id": "IkDGtOObypPY",
        "outputId": "92062897-aacf-4a64-ba6d-8c4a5fd08855"
      },
      "source": [
        "# when constructing an array, you can specify them using a string: \n",
        "np.zeros(10, dtype='int16') "
      ],
      "execution_count": 163,
      "outputs": [
        {
          "output_type": "execute_result",
          "data": {
            "text/plain": [
              "array([0, 0, 0, 0, 0, 0, 0, 0, 0, 0], dtype=int16)"
            ]
          },
          "metadata": {},
          "execution_count": 163
        }
      ]
    },
    {
      "cell_type": "code",
      "metadata": {
        "colab": {
          "base_uri": "https://localhost:8080/"
        },
        "id": "8Wr0pkTiy4If",
        "outputId": "aa0a2599-0b3d-4da6-dd84-ec92eeb7e0ab"
      },
      "source": [
        "# Or using the associated NumPy object:\n",
        "np.zeros(10, dtype=np.int16) "
      ],
      "execution_count": 164,
      "outputs": [
        {
          "output_type": "execute_result",
          "data": {
            "text/plain": [
              "array([0, 0, 0, 0, 0, 0, 0, 0, 0, 0], dtype=int16)"
            ]
          },
          "metadata": {},
          "execution_count": 164
        }
      ]
    },
    {
      "cell_type": "code",
      "metadata": {
        "id": "Z1skPedhzVqP"
      },
      "source": [
        "#Standard NumPy data types:\n",
        "#bool_ Boolean (True or False) stored as a byte \n",
        "#int_ Default integer type (same as C long; normally either int64 or int32) \n",
        "#intc Identical to C int (normally int32 or int64) \n",
        "#intp Integer used for indexing (same as C ssize_t; normally either int32 or int64) int8 Byte (–128 to 127) \n",
        "#int32 Integer (–2147483648 to 2147483647) \n",
        "#int64 Integer (–9223372036854775808 to 9223372036854775807) \n",
        "#uint8 Unsigned integer (0 to 255) \n",
        "#uint16 Unsigned integer (0 to 65535) \n",
        "#uint32 Unsigned integer (0 to 4294967295) \n",
        "#uint64 Unsigned integer (0 to 18446744073709551615) \n",
        "#float_ Shorthand for float64 \n",
        "#float16 Half-precision oat: sign bit, 5 bits exponent, 10 bits mantissa \n",
        "#float32 Single-precision oat: sign bit, 8 bits exponent, 23 bits mantissa \n",
        "#float64 Double-precision oat: sign bit, 11 bits exponent, 52 bits mantissa \n",
        "#complex_ Shorthand for complex128 \n",
        "#complex64 Complex number, represented by two 32-bit oats \n",
        "#omplex128 Complex number, represented by two 64-bit oats \n"
      ],
      "execution_count": 165,
      "outputs": []
    },
    {
      "cell_type": "code",
      "metadata": {
        "id": "pL93X4kH0_qQ"
      },
      "source": [
        "import numpy as np \n",
        "np.random.seed(0) # seed for reproducibility \n",
        "x1 = np.random.randint(10, size=6) # One-dimensional array  \n",
        "x2 = np.random.randint(10, size=(3, 4)) # Two-dimensional array  \n",
        "x3 = np.random.randint(10, size=(3, 4, 5)) # Three-dimensional array"
      ],
      "execution_count": 166,
      "outputs": []
    },
    {
      "cell_type": "code",
      "metadata": {
        "colab": {
          "base_uri": "https://localhost:8080/"
        },
        "id": "ffUFnc9Q1dDA",
        "outputId": "a186b464-3582-4b82-f317-61eeb9a38cd5"
      },
      "source": [
        "print(\"x3 ndim: \", x3.ndim) #ndim (the number of dimensions)\n",
        "print(\"x3 shape:\", x3.shape) #shape (the size of each dimension)\n",
        "print(\"x3 size: \", x3.size) #size (the total size of the array)"
      ],
      "execution_count": 167,
      "outputs": [
        {
          "output_type": "stream",
          "name": "stdout",
          "text": [
            "x3 ndim:  3\n",
            "x3 shape: (3, 4, 5)\n",
            "x3 size:  60\n"
          ]
        }
      ]
    },
    {
      "cell_type": "code",
      "metadata": {
        "colab": {
          "base_uri": "https://localhost:8080/"
        },
        "id": "ZF5TMM-Y2VFh",
        "outputId": "0ca33794-f558-4a6c-aadb-10f521057893"
      },
      "source": [
        "#data type of the array\n",
        "print(\"dtype:\", x3.dtype) "
      ],
      "execution_count": 168,
      "outputs": [
        {
          "output_type": "stream",
          "name": "stdout",
          "text": [
            "dtype: int64\n"
          ]
        }
      ]
    },
    {
      "cell_type": "code",
      "metadata": {
        "colab": {
          "base_uri": "https://localhost:8080/"
        },
        "id": "A7JqsBdi3GDp",
        "outputId": "290878dc-6ed7-48ee-8bdb-61b4399866a9"
      },
      "source": [
        "#itemsize, which lists the size (in bytes)\n",
        "print(\"itemsize:\", x3.itemsize, \"bytes\") \n",
        "print(\"nbytes:\", x3.nbytes, \"bytes\")"
      ],
      "execution_count": 169,
      "outputs": [
        {
          "output_type": "stream",
          "name": "stdout",
          "text": [
            "itemsize: 8 bytes\n",
            "nbytes: 480 bytes\n"
          ]
        }
      ]
    },
    {
      "cell_type": "code",
      "metadata": {
        "colab": {
          "base_uri": "https://localhost:8080/"
        },
        "id": "nPMPR_jb3rlJ",
        "outputId": "0640a011-3243-432f-93a8-0ed019e759b3"
      },
      "source": [
        "x1 "
      ],
      "execution_count": 170,
      "outputs": [
        {
          "output_type": "execute_result",
          "data": {
            "text/plain": [
              "array([5, 0, 3, 3, 7, 9])"
            ]
          },
          "metadata": {},
          "execution_count": 170
        }
      ]
    },
    {
      "cell_type": "code",
      "metadata": {
        "colab": {
          "base_uri": "https://localhost:8080/"
        },
        "id": "7CMbcsSi3u1o",
        "outputId": "36c80913-e930-47a0-b5dd-ed58d97ad799"
      },
      "source": [
        "x1[0] "
      ],
      "execution_count": 171,
      "outputs": [
        {
          "output_type": "execute_result",
          "data": {
            "text/plain": [
              "5"
            ]
          },
          "metadata": {},
          "execution_count": 171
        }
      ]
    },
    {
      "cell_type": "code",
      "metadata": {
        "colab": {
          "base_uri": "https://localhost:8080/"
        },
        "id": "oq4oSLsG3z1R",
        "outputId": "7e480b28-6de3-4fa7-b91a-de811416be61"
      },
      "source": [
        " x1[4] "
      ],
      "execution_count": 172,
      "outputs": [
        {
          "output_type": "execute_result",
          "data": {
            "text/plain": [
              "7"
            ]
          },
          "metadata": {},
          "execution_count": 172
        }
      ]
    },
    {
      "cell_type": "code",
      "metadata": {
        "colab": {
          "base_uri": "https://localhost:8080/"
        },
        "id": "mxxiXY6P31Fp",
        "outputId": "7beb2bce-e9bf-411a-c502-5e2b4ce4faa0"
      },
      "source": [
        "# negative indices:\n",
        "x1[-1] "
      ],
      "execution_count": 173,
      "outputs": [
        {
          "output_type": "execute_result",
          "data": {
            "text/plain": [
              "9"
            ]
          },
          "metadata": {},
          "execution_count": 173
        }
      ]
    },
    {
      "cell_type": "code",
      "metadata": {
        "colab": {
          "base_uri": "https://localhost:8080/"
        },
        "id": "vmsVvg9o38qB",
        "outputId": "b0408978-c7a4-4732-cb24-8642e16dad19"
      },
      "source": [
        " x1[-2]"
      ],
      "execution_count": 174,
      "outputs": [
        {
          "output_type": "execute_result",
          "data": {
            "text/plain": [
              "7"
            ]
          },
          "metadata": {},
          "execution_count": 174
        }
      ]
    },
    {
      "cell_type": "code",
      "metadata": {
        "colab": {
          "base_uri": "https://localhost:8080/"
        },
        "id": "Do_3QJr_4I2h",
        "outputId": "8ab05956-09a5-4f6f-8d75-b94014e2bc08"
      },
      "source": [
        "# comma-separated tuple of indices: \n",
        "x2"
      ],
      "execution_count": 175,
      "outputs": [
        {
          "output_type": "execute_result",
          "data": {
            "text/plain": [
              "array([[3, 5, 2, 4],\n",
              "       [7, 6, 8, 8],\n",
              "       [1, 6, 7, 7]])"
            ]
          },
          "metadata": {},
          "execution_count": 175
        }
      ]
    },
    {
      "cell_type": "code",
      "metadata": {
        "colab": {
          "base_uri": "https://localhost:8080/"
        },
        "id": "MJyk03f24Upk",
        "outputId": "f2afe155-2618-45f4-a082-58f1510210ab"
      },
      "source": [
        "x2[0, 0]"
      ],
      "execution_count": 176,
      "outputs": [
        {
          "output_type": "execute_result",
          "data": {
            "text/plain": [
              "3"
            ]
          },
          "metadata": {},
          "execution_count": 176
        }
      ]
    },
    {
      "cell_type": "code",
      "metadata": {
        "colab": {
          "base_uri": "https://localhost:8080/"
        },
        "id": "KhkZuDlN4c8Z",
        "outputId": "57b9704b-0bfa-4ecb-fb9b-91a777c2e0d4"
      },
      "source": [
        " x2[2, 0]"
      ],
      "execution_count": 177,
      "outputs": [
        {
          "output_type": "execute_result",
          "data": {
            "text/plain": [
              "1"
            ]
          },
          "metadata": {},
          "execution_count": 177
        }
      ]
    },
    {
      "cell_type": "code",
      "metadata": {
        "colab": {
          "base_uri": "https://localhost:8080/"
        },
        "id": "2D_vtsri4eXp",
        "outputId": "fa726951-091b-4bc3-b5b0-e60dd5b0c0cb"
      },
      "source": [
        "x2[2, -1]"
      ],
      "execution_count": 178,
      "outputs": [
        {
          "output_type": "execute_result",
          "data": {
            "text/plain": [
              "7"
            ]
          },
          "metadata": {},
          "execution_count": 178
        }
      ]
    },
    {
      "cell_type": "code",
      "metadata": {
        "colab": {
          "base_uri": "https://localhost:8080/"
        },
        "id": "HsF45T-14iWh",
        "outputId": "ced746ea-405a-4bd3-eb5a-329dddb517d2"
      },
      "source": [
        "# index notation:\n",
        "x2[0, 0] = 12 \n",
        "x2 "
      ],
      "execution_count": 179,
      "outputs": [
        {
          "output_type": "execute_result",
          "data": {
            "text/plain": [
              "array([[12,  5,  2,  4],\n",
              "       [ 7,  6,  8,  8],\n",
              "       [ 1,  6,  7,  7]])"
            ]
          },
          "metadata": {},
          "execution_count": 179
        }
      ]
    },
    {
      "cell_type": "code",
      "metadata": {
        "colab": {
          "base_uri": "https://localhost:8080/"
        },
        "id": "Nm2c0xfp4yQZ",
        "outputId": "2efa6eb8-2b70-4f77-bf2a-121c95403fcd"
      },
      "source": [
        "x1[0] = 3.14159 # this will be truncated! \n",
        "x1 \n"
      ],
      "execution_count": 180,
      "outputs": [
        {
          "output_type": "execute_result",
          "data": {
            "text/plain": [
              "array([3, 0, 3, 3, 7, 9])"
            ]
          },
          "metadata": {},
          "execution_count": 180
        }
      ]
    },
    {
      "cell_type": "code",
      "metadata": {
        "colab": {
          "base_uri": "https://localhost:8080/"
        },
        "id": "d85gamck45UZ",
        "outputId": "b15c0640-bf1a-47f8-c04f-9d7946663843"
      },
      "source": [
        "#One-dimensional subarrays\n",
        "x = np.arange(10) \n",
        "x "
      ],
      "execution_count": 181,
      "outputs": [
        {
          "output_type": "execute_result",
          "data": {
            "text/plain": [
              "array([0, 1, 2, 3, 4, 5, 6, 7, 8, 9])"
            ]
          },
          "metadata": {},
          "execution_count": 181
        }
      ]
    },
    {
      "cell_type": "code",
      "metadata": {
        "colab": {
          "base_uri": "https://localhost:8080/"
        },
        "id": "MORjAmGa542K",
        "outputId": "bbf1d5e3-1653-4d27-b526-6891b3d4deaa"
      },
      "source": [
        "x[:5] # first five elements "
      ],
      "execution_count": 182,
      "outputs": [
        {
          "output_type": "execute_result",
          "data": {
            "text/plain": [
              "array([0, 1, 2, 3, 4])"
            ]
          },
          "metadata": {},
          "execution_count": 182
        }
      ]
    },
    {
      "cell_type": "code",
      "metadata": {
        "colab": {
          "base_uri": "https://localhost:8080/"
        },
        "id": "HK0BIf1k6gtZ",
        "outputId": "62fd4b22-b8a5-4139-a484-688fc2d5b0bf"
      },
      "source": [
        "x[5:] # elements after index 5"
      ],
      "execution_count": 183,
      "outputs": [
        {
          "output_type": "execute_result",
          "data": {
            "text/plain": [
              "array([5, 6, 7, 8, 9])"
            ]
          },
          "metadata": {},
          "execution_count": 183
        }
      ]
    },
    {
      "cell_type": "code",
      "metadata": {
        "colab": {
          "base_uri": "https://localhost:8080/"
        },
        "id": "297WeXhw6mDK",
        "outputId": "b90347a4-b09b-449d-b78c-36d4d8526350"
      },
      "source": [
        "x[4:7] # middle subarray "
      ],
      "execution_count": 184,
      "outputs": [
        {
          "output_type": "execute_result",
          "data": {
            "text/plain": [
              "array([4, 5, 6])"
            ]
          },
          "metadata": {},
          "execution_count": 184
        }
      ]
    },
    {
      "cell_type": "code",
      "metadata": {
        "colab": {
          "base_uri": "https://localhost:8080/"
        },
        "id": "iB-dvP4y6pfK",
        "outputId": "70f906f8-dc0c-412a-82ec-ef87f03c696c"
      },
      "source": [
        "x[::2] # every other element"
      ],
      "execution_count": 185,
      "outputs": [
        {
          "output_type": "execute_result",
          "data": {
            "text/plain": [
              "array([0, 2, 4, 6, 8])"
            ]
          },
          "metadata": {},
          "execution_count": 185
        }
      ]
    },
    {
      "cell_type": "code",
      "metadata": {
        "colab": {
          "base_uri": "https://localhost:8080/"
        },
        "id": "0kphVvXd6vw6",
        "outputId": "527239a1-fdb8-4941-fc1b-c21d8b7506f7"
      },
      "source": [
        "x[1::2] # every other element, starting at index 1 "
      ],
      "execution_count": 186,
      "outputs": [
        {
          "output_type": "execute_result",
          "data": {
            "text/plain": [
              "array([1, 3, 5, 7, 9])"
            ]
          },
          "metadata": {},
          "execution_count": 186
        }
      ]
    },
    {
      "cell_type": "code",
      "metadata": {
        "colab": {
          "base_uri": "https://localhost:8080/"
        },
        "id": "U6AvQc5x6y_R",
        "outputId": "567f45d4-5b81-4c3a-ccec-8aa5dcdea282"
      },
      "source": [
        "x[::-1] # all elements, reversed"
      ],
      "execution_count": 187,
      "outputs": [
        {
          "output_type": "execute_result",
          "data": {
            "text/plain": [
              "array([9, 8, 7, 6, 5, 4, 3, 2, 1, 0])"
            ]
          },
          "metadata": {},
          "execution_count": 187
        }
      ]
    },
    {
      "cell_type": "code",
      "metadata": {
        "colab": {
          "base_uri": "https://localhost:8080/"
        },
        "id": "SUq8PEKF6zHa",
        "outputId": "7abdb5cf-de69-4164-a90b-a32c25222492"
      },
      "source": [
        " x[5::-2] # reversed every other from index 5"
      ],
      "execution_count": 188,
      "outputs": [
        {
          "output_type": "execute_result",
          "data": {
            "text/plain": [
              "array([5, 3, 1])"
            ]
          },
          "metadata": {},
          "execution_count": 188
        }
      ]
    },
    {
      "cell_type": "code",
      "metadata": {
        "colab": {
          "base_uri": "https://localhost:8080/"
        },
        "id": "SgD76_Yb69ni",
        "outputId": "7ac4268b-5c1b-4d15-d6ce-4c028340f258"
      },
      "source": [
        "x2"
      ],
      "execution_count": 189,
      "outputs": [
        {
          "output_type": "execute_result",
          "data": {
            "text/plain": [
              "array([[12,  5,  2,  4],\n",
              "       [ 7,  6,  8,  8],\n",
              "       [ 1,  6,  7,  7]])"
            ]
          },
          "metadata": {},
          "execution_count": 189
        }
      ]
    },
    {
      "cell_type": "code",
      "metadata": {
        "colab": {
          "base_uri": "https://localhost:8080/"
        },
        "id": "TcNYPCWL7B9h",
        "outputId": "99e9b41c-7e87-4321-f8ac-3998488266a6"
      },
      "source": [
        "x2[:2, :3] # two rows, three columns "
      ],
      "execution_count": 190,
      "outputs": [
        {
          "output_type": "execute_result",
          "data": {
            "text/plain": [
              "array([[12,  5,  2],\n",
              "       [ 7,  6,  8]])"
            ]
          },
          "metadata": {},
          "execution_count": 190
        }
      ]
    },
    {
      "cell_type": "code",
      "metadata": {
        "colab": {
          "base_uri": "https://localhost:8080/"
        },
        "id": "bsPvbVIA7G3Q",
        "outputId": "79ca4ed9-bdff-433e-85fa-264d8b38e5ba"
      },
      "source": [
        "x2[:3, ::2] # all rows, every other column"
      ],
      "execution_count": 191,
      "outputs": [
        {
          "output_type": "execute_result",
          "data": {
            "text/plain": [
              "array([[12,  2],\n",
              "       [ 7,  8],\n",
              "       [ 1,  7]])"
            ]
          },
          "metadata": {},
          "execution_count": 191
        }
      ]
    },
    {
      "cell_type": "code",
      "metadata": {
        "colab": {
          "base_uri": "https://localhost:8080/"
        },
        "id": "2-RIxTsZ7G-i",
        "outputId": "437d95a7-2371-447d-b41a-a578f2b926f5"
      },
      "source": [
        "#subarray dimensions can even be reversed together:\n",
        "x2[::-1, ::-1] "
      ],
      "execution_count": 192,
      "outputs": [
        {
          "output_type": "execute_result",
          "data": {
            "text/plain": [
              "array([[ 7,  7,  6,  1],\n",
              "       [ 8,  8,  6,  7],\n",
              "       [ 4,  2,  5, 12]])"
            ]
          },
          "metadata": {},
          "execution_count": 192
        }
      ]
    },
    {
      "cell_type": "code",
      "metadata": {
        "colab": {
          "base_uri": "https://localhost:8080/"
        },
        "id": "lwpFzOfB7UxT",
        "outputId": "5be1b745-0b78-47ee-c337-f7a39534f1fe"
      },
      "source": [
        "print(x2[:, 0]) # first column of x2"
      ],
      "execution_count": 193,
      "outputs": [
        {
          "output_type": "stream",
          "name": "stdout",
          "text": [
            "[12  7  1]\n"
          ]
        }
      ]
    },
    {
      "cell_type": "code",
      "metadata": {
        "colab": {
          "base_uri": "https://localhost:8080/"
        },
        "id": "Z8WfIdzU7fbq",
        "outputId": "8ba9a2bc-b338-4bcc-ce6c-3521f8b94a8b"
      },
      "source": [
        "print(x2[0, :]) # first row of x2"
      ],
      "execution_count": 194,
      "outputs": [
        {
          "output_type": "stream",
          "name": "stdout",
          "text": [
            "[12  5  2  4]\n"
          ]
        }
      ]
    },
    {
      "cell_type": "code",
      "metadata": {
        "colab": {
          "base_uri": "https://localhost:8080/"
        },
        "id": "i8j7H2QX7jCS",
        "outputId": "d1f4353b-15db-414b-88b3-c725eb318c2b"
      },
      "source": [
        "print(x2[0]) # equivalent to x2[0, :]"
      ],
      "execution_count": 195,
      "outputs": [
        {
          "output_type": "stream",
          "name": "stdout",
          "text": [
            "[12  5  2  4]\n"
          ]
        }
      ]
    },
    {
      "cell_type": "code",
      "metadata": {
        "colab": {
          "base_uri": "https://localhost:8080/"
        },
        "id": "WTm5ThiR7uQL",
        "outputId": "8e08cd62-f97c-4069-e0fa-7a1432da1a53"
      },
      "source": [
        "#Subarrays as no-copy views\n",
        "print(x2)"
      ],
      "execution_count": 196,
      "outputs": [
        {
          "output_type": "stream",
          "name": "stdout",
          "text": [
            "[[12  5  2  4]\n",
            " [ 7  6  8  8]\n",
            " [ 1  6  7  7]]\n"
          ]
        }
      ]
    },
    {
      "cell_type": "code",
      "metadata": {
        "colab": {
          "base_uri": "https://localhost:8080/"
        },
        "id": "XrkxlFjp8knT",
        "outputId": "8ba49512-6a91-477b-fc33-461cef2de6b1"
      },
      "source": [
        "#extract a 2×2 subarray from this:\n",
        "x2_sub = x2[:2, :2] \n",
        "print(x2_sub)"
      ],
      "execution_count": 197,
      "outputs": [
        {
          "output_type": "stream",
          "name": "stdout",
          "text": [
            "[[12  5]\n",
            " [ 7  6]]\n"
          ]
        }
      ]
    },
    {
      "cell_type": "code",
      "metadata": {
        "colab": {
          "base_uri": "https://localhost:8080/"
        },
        "id": "VGjAS4wU8uXT",
        "outputId": "2a77c504-48d1-411c-92e4-00bf55b47553"
      },
      "source": [
        "#modify this subarray, we’ll see that the original array is changed\n",
        "x2_sub[0, 0] = 99 \n",
        "print(x2_sub)"
      ],
      "execution_count": 198,
      "outputs": [
        {
          "output_type": "stream",
          "name": "stdout",
          "text": [
            "[[99  5]\n",
            " [ 7  6]]\n"
          ]
        }
      ]
    },
    {
      "cell_type": "code",
      "metadata": {
        "colab": {
          "base_uri": "https://localhost:8080/"
        },
        "id": "g_OCUQbO9AAT",
        "outputId": "e89a010d-7507-4734-bf00-c77f5a369d5c"
      },
      "source": [
        "print(x2) "
      ],
      "execution_count": 199,
      "outputs": [
        {
          "output_type": "stream",
          "name": "stdout",
          "text": [
            "[[99  5  2  4]\n",
            " [ 7  6  8  8]\n",
            " [ 1  6  7  7]]\n"
          ]
        }
      ]
    },
    {
      "cell_type": "code",
      "metadata": {
        "colab": {
          "base_uri": "https://localhost:8080/"
        },
        "id": "dHpvBCw_-zaw",
        "outputId": "0d8d6857-e43d-46eb-889d-39699fcdcee5"
      },
      "source": [
        "x2_sub_copy = x2[:2, :2].copy() \n",
        "print(x2_sub_copy)"
      ],
      "execution_count": 200,
      "outputs": [
        {
          "output_type": "stream",
          "name": "stdout",
          "text": [
            "[[99  5]\n",
            " [ 7  6]]\n"
          ]
        }
      ]
    },
    {
      "cell_type": "code",
      "metadata": {
        "colab": {
          "base_uri": "https://localhost:8080/"
        },
        "id": "_RzA1pWmCfvF",
        "outputId": "75a9ae30-2630-4e9e-c11c-c4ebff22bbd3"
      },
      "source": [
        "x2_sub_copy[0, 0] = 42 \n",
        "print(x2_sub_copy) "
      ],
      "execution_count": 201,
      "outputs": [
        {
          "output_type": "stream",
          "name": "stdout",
          "text": [
            "[[42  5]\n",
            " [ 7  6]]\n"
          ]
        }
      ]
    },
    {
      "cell_type": "code",
      "metadata": {
        "colab": {
          "base_uri": "https://localhost:8080/"
        },
        "id": "WwEEbCWvCi6F",
        "outputId": "9141d0ac-15a4-4ced-859e-dbb9c0e6bbd5"
      },
      "source": [
        "print(x2) "
      ],
      "execution_count": 202,
      "outputs": [
        {
          "output_type": "stream",
          "name": "stdout",
          "text": [
            "[[99  5  2  4]\n",
            " [ 7  6  8  8]\n",
            " [ 1  6  7  7]]\n"
          ]
        }
      ]
    },
    {
      "cell_type": "code",
      "metadata": {
        "colab": {
          "base_uri": "https://localhost:8080/"
        },
        "id": "D9Ze5q40Cmd8",
        "outputId": "3f63d205-feee-4786-914b-6edbccde0991"
      },
      "source": [
        "#Reshaping of Arrays \n",
        "grid = np.arange(1, 10).reshape((3, 3)) \n",
        "print(grid)"
      ],
      "execution_count": 203,
      "outputs": [
        {
          "output_type": "stream",
          "name": "stdout",
          "text": [
            "[[1 2 3]\n",
            " [4 5 6]\n",
            " [7 8 9]]\n"
          ]
        }
      ]
    },
    {
      "cell_type": "code",
      "metadata": {
        "colab": {
          "base_uri": "https://localhost:8080/"
        },
        "id": "KGzduIP3CwuV",
        "outputId": "d468a102-c082-4b67-8839-404e91aee565"
      },
      "source": [
        "x = np.array([1, 2, 3]) # row vector via reshape \n",
        "x.reshape((1, 3))"
      ],
      "execution_count": 204,
      "outputs": [
        {
          "output_type": "execute_result",
          "data": {
            "text/plain": [
              "array([[1, 2, 3]])"
            ]
          },
          "metadata": {},
          "execution_count": 204
        }
      ]
    },
    {
      "cell_type": "code",
      "metadata": {
        "colab": {
          "base_uri": "https://localhost:8080/"
        },
        "id": "24IBsVmpOBsH",
        "outputId": "a80bc240-0431-4d49-987d-3b769aeeeb02"
      },
      "source": [
        "# row vector via newaxis \n",
        "x[np.newaxis, :]"
      ],
      "execution_count": 205,
      "outputs": [
        {
          "output_type": "execute_result",
          "data": {
            "text/plain": [
              "array([[1, 2, 3]])"
            ]
          },
          "metadata": {},
          "execution_count": 205
        }
      ]
    },
    {
      "cell_type": "code",
      "metadata": {
        "colab": {
          "base_uri": "https://localhost:8080/"
        },
        "id": "yMCjF0fwOG8H",
        "outputId": "1f95e222-4342-45c0-fcc0-03a9afdb0c59"
      },
      "source": [
        "# column vector via reshape \n",
        "x.reshape((3, 1))"
      ],
      "execution_count": 206,
      "outputs": [
        {
          "output_type": "execute_result",
          "data": {
            "text/plain": [
              "array([[1],\n",
              "       [2],\n",
              "       [3]])"
            ]
          },
          "metadata": {},
          "execution_count": 206
        }
      ]
    },
    {
      "cell_type": "code",
      "metadata": {
        "colab": {
          "base_uri": "https://localhost:8080/"
        },
        "id": "DY2Q3OniOLA_",
        "outputId": "051b3023-8781-425e-ad78-88e198cc7a93"
      },
      "source": [
        "# column vector via newaxis \n",
        "x[:, np.newaxis]"
      ],
      "execution_count": 207,
      "outputs": [
        {
          "output_type": "execute_result",
          "data": {
            "text/plain": [
              "array([[1],\n",
              "       [2],\n",
              "       [3]])"
            ]
          },
          "metadata": {},
          "execution_count": 207
        }
      ]
    },
    {
      "cell_type": "code",
      "metadata": {
        "colab": {
          "base_uri": "https://localhost:8080/"
        },
        "id": "oJ7M_l29OYdv",
        "outputId": "4b57f428-600b-4bb2-faaf-dfeaeefd6db9"
      },
      "source": [
        "#Concatenation of arrays \n",
        "x = np.array([1, 2, 3]) \n",
        "y = np.array([3, 2, 1]) \n",
        "np.concatenate([x, y]) "
      ],
      "execution_count": 208,
      "outputs": [
        {
          "output_type": "execute_result",
          "data": {
            "text/plain": [
              "array([1, 2, 3, 3, 2, 1])"
            ]
          },
          "metadata": {},
          "execution_count": 208
        }
      ]
    },
    {
      "cell_type": "code",
      "metadata": {
        "colab": {
          "base_uri": "https://localhost:8080/"
        },
        "id": "Zz-V1yj1OgsQ",
        "outputId": "a942940d-0a87-4724-8fdf-ef70e942eac7"
      },
      "source": [
        "z = [99, 99, 99] \n",
        "print(np.concatenate([x, y, z]))"
      ],
      "execution_count": 209,
      "outputs": [
        {
          "output_type": "stream",
          "name": "stdout",
          "text": [
            "[ 1  2  3  3  2  1 99 99 99]\n"
          ]
        }
      ]
    },
    {
      "cell_type": "code",
      "metadata": {
        "id": "2-B4_y_jOon3"
      },
      "source": [
        "grid = np.array([[1, 2, 3], \n",
        "[4, 5, 6]])"
      ],
      "execution_count": 210,
      "outputs": []
    },
    {
      "cell_type": "code",
      "metadata": {
        "colab": {
          "base_uri": "https://localhost:8080/"
        },
        "id": "MvL6KAq2Otzn",
        "outputId": "1d55cf2f-2e7a-468c-cf25-ce789f96f34b"
      },
      "source": [
        "# concatenate along the first axis \n",
        "np.concatenate([grid, grid])"
      ],
      "execution_count": 211,
      "outputs": [
        {
          "output_type": "execute_result",
          "data": {
            "text/plain": [
              "array([[1, 2, 3],\n",
              "       [4, 5, 6],\n",
              "       [1, 2, 3],\n",
              "       [4, 5, 6]])"
            ]
          },
          "metadata": {},
          "execution_count": 211
        }
      ]
    },
    {
      "cell_type": "code",
      "metadata": {
        "colab": {
          "base_uri": "https://localhost:8080/"
        },
        "id": "WCtG2PHiO6z4",
        "outputId": "6566a058-9aab-4b04-c01a-b08d5979c873"
      },
      "source": [
        "# concatenate along the second axis (zero-indexed) \n",
        "np.concatenate([grid, grid], axis=1)"
      ],
      "execution_count": 212,
      "outputs": [
        {
          "output_type": "execute_result",
          "data": {
            "text/plain": [
              "array([[1, 2, 3, 1, 2, 3],\n",
              "       [4, 5, 6, 4, 5, 6]])"
            ]
          },
          "metadata": {},
          "execution_count": 212
        }
      ]
    },
    {
      "cell_type": "code",
      "metadata": {
        "id": "qyBz7VeTPFcx"
      },
      "source": [
        "x = np.array([1, 2, 3]) \n",
        "grid = np.array([[9, 8, 7], \n",
        "[6, 5, 4]])"
      ],
      "execution_count": 213,
      "outputs": []
    },
    {
      "cell_type": "code",
      "metadata": {
        "colab": {
          "base_uri": "https://localhost:8080/"
        },
        "id": "C65rO1cyPZwQ",
        "outputId": "01e2d87e-e812-409c-80bc-e6c03ea4b2e8"
      },
      "source": [
        "#vertically stack the arrays \n",
        "np.vstack([x, grid])"
      ],
      "execution_count": 214,
      "outputs": [
        {
          "output_type": "execute_result",
          "data": {
            "text/plain": [
              "array([[1, 2, 3],\n",
              "       [9, 8, 7],\n",
              "       [6, 5, 4]])"
            ]
          },
          "metadata": {},
          "execution_count": 214
        }
      ]
    },
    {
      "cell_type": "code",
      "metadata": {
        "colab": {
          "base_uri": "https://localhost:8080/"
        },
        "id": "roGq_6NVPeww",
        "outputId": "f773b020-8980-411f-c3d1-b98148e88638"
      },
      "source": [
        "# horizontally stack the arrays \n",
        "y = np.array([[99], [99]]) \n",
        "np.hstack([grid, y])"
      ],
      "execution_count": 215,
      "outputs": [
        {
          "output_type": "execute_result",
          "data": {
            "text/plain": [
              "array([[ 9,  8,  7, 99],\n",
              "       [ 6,  5,  4, 99]])"
            ]
          },
          "metadata": {},
          "execution_count": 215
        }
      ]
    },
    {
      "cell_type": "code",
      "metadata": {
        "colab": {
          "base_uri": "https://localhost:8080/"
        },
        "id": "tzm8DPz_PlIJ",
        "outputId": "f092783d-2ed1-4231-9dcb-afc845bbf01b"
      },
      "source": [
        "#Splitting of arrays \n",
        "x = [1, 2, 3, 99, 99, 3, 2, 1] \n",
        "x1, x2, x3 = np.split(x, [3, 5]) \n",
        "print(x1, x2, x3) "
      ],
      "execution_count": 216,
      "outputs": [
        {
          "output_type": "stream",
          "name": "stdout",
          "text": [
            "[1 2 3] [99 99] [3 2 1]\n"
          ]
        }
      ]
    },
    {
      "cell_type": "code",
      "metadata": {
        "colab": {
          "base_uri": "https://localhost:8080/"
        },
        "id": "TEdbEr-gPvJg",
        "outputId": "08d05c7e-2bf9-47d6-b9e5-67d0d1bc6077"
      },
      "source": [
        "grid = np.arange(16).reshape((4, 4)) \n",
        "grid "
      ],
      "execution_count": 217,
      "outputs": [
        {
          "output_type": "execute_result",
          "data": {
            "text/plain": [
              "array([[ 0,  1,  2,  3],\n",
              "       [ 4,  5,  6,  7],\n",
              "       [ 8,  9, 10, 11],\n",
              "       [12, 13, 14, 15]])"
            ]
          },
          "metadata": {},
          "execution_count": 217
        }
      ]
    },
    {
      "cell_type": "code",
      "metadata": {
        "colab": {
          "base_uri": "https://localhost:8080/"
        },
        "id": "8wrRIgMAP7MB",
        "outputId": "e872f7b7-ef8c-4bcd-a278-aedc2726d36d"
      },
      "source": [
        "upper, lower = np.vsplit(grid, [2]) \n",
        "print(upper) \n",
        "print(lower)"
      ],
      "execution_count": 218,
      "outputs": [
        {
          "output_type": "stream",
          "name": "stdout",
          "text": [
            "[[0 1 2 3]\n",
            " [4 5 6 7]]\n",
            "[[ 8  9 10 11]\n",
            " [12 13 14 15]]\n"
          ]
        }
      ]
    },
    {
      "cell_type": "code",
      "metadata": {
        "colab": {
          "base_uri": "https://localhost:8080/"
        },
        "id": "ZoAasw_xQG04",
        "outputId": "db671ddc-e0d6-4f07-f05b-61f284d191fe"
      },
      "source": [
        "left, right = np.hsplit(grid, [2]) \n",
        "print(left) \n",
        "print(right)"
      ],
      "execution_count": 219,
      "outputs": [
        {
          "output_type": "stream",
          "name": "stdout",
          "text": [
            "[[ 0  1]\n",
            " [ 4  5]\n",
            " [ 8  9]\n",
            " [12 13]]\n",
            "[[ 2  3]\n",
            " [ 6  7]\n",
            " [10 11]\n",
            " [14 15]]\n"
          ]
        }
      ]
    },
    {
      "cell_type": "code",
      "metadata": {
        "colab": {
          "base_uri": "https://localhost:8080/"
        },
        "id": "N-sWUy8rQKAA",
        "outputId": "0c85b464-04b2-4185-9c34-f80264ec13c9"
      },
      "source": [
        "# For example, imagine we have an array of values and we’d like to compute the reciprocal of each. A straightforward approach might look like this: \n",
        "import numpy as np\n",
        "np.random.seed(0)\n",
        "\n",
        "def compute_reciprocals(values):\n",
        " output = np.empty(len(values))\n",
        " for i in range(len(values)):\n",
        "   output[i] = 1.0 / values[i]\n",
        " return output\n",
        "\n",
        "values = np.random.randint(1, 10, size=5)\n",
        "compute_reciprocals(values)\n"
      ],
      "execution_count": 220,
      "outputs": [
        {
          "output_type": "execute_result",
          "data": {
            "text/plain": [
              "array([0.16666667, 1.        , 0.25      , 0.25      , 0.125     ])"
            ]
          },
          "metadata": {},
          "execution_count": 220
        }
      ]
    },
    {
      "cell_type": "code",
      "metadata": {
        "colab": {
          "base_uri": "https://localhost:8080/"
        },
        "id": "E2A-_wWlTvTq",
        "outputId": "47411996-500d-466b-e4a1-42b1b0412ceb"
      },
      "source": [
        "big_array = np.random.randint(1, 100, size=1000000) \n",
        "%timeit compute_reciprocals(big_array)"
      ],
      "execution_count": 221,
      "outputs": [
        {
          "output_type": "stream",
          "name": "stdout",
          "text": [
            "1 loop, best of 5: 2.41 s per loop\n"
          ]
        }
      ]
    },
    {
      "cell_type": "code",
      "metadata": {
        "colab": {
          "base_uri": "https://localhost:8080/"
        },
        "id": "HjciiTGYWDia",
        "outputId": "1e33f193-6128-4125-a25a-b6e609a78c30"
      },
      "source": [
        "print(compute_reciprocals(values)) \n",
        "print(1.0 / values)"
      ],
      "execution_count": 222,
      "outputs": [
        {
          "output_type": "stream",
          "name": "stdout",
          "text": [
            "[0.16666667 1.         0.25       0.25       0.125     ]\n",
            "[0.16666667 1.         0.25       0.25       0.125     ]\n"
          ]
        }
      ]
    },
    {
      "cell_type": "code",
      "metadata": {
        "colab": {
          "base_uri": "https://localhost:8080/"
        },
        "id": "xnMV2KYfYJrq",
        "outputId": "947b28df-c0e6-421e-c063-d238e12fcc25"
      },
      "source": [
        "%timeit (1.0 / big_array) "
      ],
      "execution_count": 223,
      "outputs": [
        {
          "output_type": "stream",
          "name": "stdout",
          "text": [
            "100 loops, best of 5: 3.36 ms per loop\n"
          ]
        }
      ]
    },
    {
      "cell_type": "code",
      "metadata": {
        "colab": {
          "base_uri": "https://localhost:8080/"
        },
        "id": "WYLzTmt9YSqM",
        "outputId": "213c804f-9fa4-404d-8d54-a7654df8f5ac"
      },
      "source": [
        "np.arange(5) / np.arange(1, 6)"
      ],
      "execution_count": 224,
      "outputs": [
        {
          "output_type": "execute_result",
          "data": {
            "text/plain": [
              "array([0.        , 0.5       , 0.66666667, 0.75      , 0.8       ])"
            ]
          },
          "metadata": {},
          "execution_count": 224
        }
      ]
    },
    {
      "cell_type": "code",
      "metadata": {
        "colab": {
          "base_uri": "https://localhost:8080/"
        },
        "id": "GNFsOgUfZ-7b",
        "outputId": "5d3024c3-5658-4c43-f8d5-bda6be6bca39"
      },
      "source": [
        "x = np.arange(9).reshape((3, 3)) \n",
        "2 ** x"
      ],
      "execution_count": 225,
      "outputs": [
        {
          "output_type": "execute_result",
          "data": {
            "text/plain": [
              "array([[  1,   2,   4],\n",
              "       [  8,  16,  32],\n",
              "       [ 64, 128, 256]])"
            ]
          },
          "metadata": {},
          "execution_count": 225
        }
      ]
    },
    {
      "cell_type": "code",
      "metadata": {
        "colab": {
          "base_uri": "https://localhost:8080/"
        },
        "id": "s7juq0dtaHif",
        "outputId": "d8f1f389-bf58-429e-fd32-d96dd7f54b1c"
      },
      "source": [
        "#Array arithmetic \n",
        "x = np.arange(4) \n",
        "print(\"x =\", x) \n",
        "print(\"x + 5 =\", x + 5) \n",
        "print(\"x - 5 =\", x - 5) \n",
        "print(\"x * 2 =\", x * 2)\n",
        "print(\"x / 2 =\", x / 2) \n",
        "print(\"x // 2 =\", x // 2) # floor division "
      ],
      "execution_count": 226,
      "outputs": [
        {
          "output_type": "stream",
          "name": "stdout",
          "text": [
            "x = [0 1 2 3]\n",
            "x + 5 = [5 6 7 8]\n",
            "x - 5 = [-5 -4 -3 -2]\n",
            "x * 2 = [0 2 4 6]\n",
            "x / 2 = [0.  0.5 1.  1.5]\n",
            "x // 2 = [0 0 1 1]\n"
          ]
        }
      ]
    },
    {
      "cell_type": "code",
      "metadata": {
        "colab": {
          "base_uri": "https://localhost:8080/"
        },
        "id": "XnBoQE74aXKr",
        "outputId": "add71bfd-7fce-48e2-ad15-ccfdcc21b3ea"
      },
      "source": [
        "print(\"-x = \", -x) \n",
        "print(\"x ** 2 = \", x ** 2) \n",
        "print(\"x % 2 = \", x % 2)"
      ],
      "execution_count": 227,
      "outputs": [
        {
          "output_type": "stream",
          "name": "stdout",
          "text": [
            "-x =  [ 0 -1 -2 -3]\n",
            "x ** 2 =  [0 1 4 9]\n",
            "x % 2 =  [0 1 0 1]\n"
          ]
        }
      ]
    },
    {
      "cell_type": "code",
      "metadata": {
        "colab": {
          "base_uri": "https://localhost:8080/"
        },
        "id": "kHIP3VVkafnT",
        "outputId": "1aae7424-55dc-4e2e-d6e6-39f762b81375"
      },
      "source": [
        "-(0.5*x + 1) ** 2"
      ],
      "execution_count": 228,
      "outputs": [
        {
          "output_type": "execute_result",
          "data": {
            "text/plain": [
              "array([-1.  , -2.25, -4.  , -6.25])"
            ]
          },
          "metadata": {},
          "execution_count": 228
        }
      ]
    },
    {
      "cell_type": "code",
      "metadata": {
        "colab": {
          "base_uri": "https://localhost:8080/"
        },
        "id": "cjVIt-B4akLj",
        "outputId": "42e3704f-e811-493d-8d63-fadfd8764169"
      },
      "source": [
        "np.add(x, 2)"
      ],
      "execution_count": 229,
      "outputs": [
        {
          "output_type": "execute_result",
          "data": {
            "text/plain": [
              "array([2, 3, 4, 5])"
            ]
          },
          "metadata": {},
          "execution_count": 229
        }
      ]
    },
    {
      "cell_type": "code",
      "metadata": {
        "colab": {
          "base_uri": "https://localhost:8080/"
        },
        "id": "ZnbvvIcaan7D",
        "outputId": "5d894ff1-7d7c-4540-fffa-22bbf025a0fc"
      },
      "source": [
        "#Absolute value \n",
        "x = np.array([-2, -1, 0, 1, 2]) \n",
        "abs(x)"
      ],
      "execution_count": 230,
      "outputs": [
        {
          "output_type": "execute_result",
          "data": {
            "text/plain": [
              "array([2, 1, 0, 1, 2])"
            ]
          },
          "metadata": {},
          "execution_count": 230
        }
      ]
    },
    {
      "cell_type": "code",
      "metadata": {
        "colab": {
          "base_uri": "https://localhost:8080/"
        },
        "id": "OdlNnGpQazXF",
        "outputId": "2f19ca6a-abe3-4bb7-e4d5-2c3e43f9ea8e"
      },
      "source": [
        "np.absolute(x)"
      ],
      "execution_count": 231,
      "outputs": [
        {
          "output_type": "execute_result",
          "data": {
            "text/plain": [
              "array([2, 1, 0, 1, 2])"
            ]
          },
          "metadata": {},
          "execution_count": 231
        }
      ]
    },
    {
      "cell_type": "code",
      "metadata": {
        "colab": {
          "base_uri": "https://localhost:8080/"
        },
        "id": "x3KjQS-8a3Er",
        "outputId": "7e903d88-eb44-4703-9da7-3e7680af297d"
      },
      "source": [
        "np.abs(x)"
      ],
      "execution_count": 232,
      "outputs": [
        {
          "output_type": "execute_result",
          "data": {
            "text/plain": [
              "array([2, 1, 0, 1, 2])"
            ]
          },
          "metadata": {},
          "execution_count": 232
        }
      ]
    },
    {
      "cell_type": "code",
      "metadata": {
        "colab": {
          "base_uri": "https://localhost:8080/"
        },
        "id": "3NtZzlqXa9PU",
        "outputId": "a5b5d048-0620-42f5-a41b-82410147183f"
      },
      "source": [
        "x = np.array([3 - 4j, 4 - 3j, 2 + 0j, 0 + 1j]) \n",
        "np.abs(x)"
      ],
      "execution_count": 233,
      "outputs": [
        {
          "output_type": "execute_result",
          "data": {
            "text/plain": [
              "array([5., 5., 2., 1.])"
            ]
          },
          "metadata": {},
          "execution_count": 233
        }
      ]
    },
    {
      "cell_type": "code",
      "metadata": {
        "id": "RWtTmf6SbB8j"
      },
      "source": [
        "#Trigonometric functions \n",
        "theta = np.linspace(0, np.pi, 3)"
      ],
      "execution_count": 234,
      "outputs": []
    },
    {
      "cell_type": "code",
      "metadata": {
        "colab": {
          "base_uri": "https://localhost:8080/"
        },
        "id": "t72lE1CFbjkd",
        "outputId": "e3d5c1c3-8e34-4b08-ec93-6ef9f6eb0dcf"
      },
      "source": [
        "print(\"theta = \", theta) \n",
        "print(\"sin(theta) = \", np.sin(theta)) \n",
        "print(\"cos(theta) = \", np.cos(theta)) \n",
        "print(\"tan(theta) = \", np.tan(theta))"
      ],
      "execution_count": 235,
      "outputs": [
        {
          "output_type": "stream",
          "name": "stdout",
          "text": [
            "theta =  [0.         1.57079633 3.14159265]\n",
            "sin(theta) =  [0.0000000e+00 1.0000000e+00 1.2246468e-16]\n",
            "cos(theta) =  [ 1.000000e+00  6.123234e-17 -1.000000e+00]\n",
            "tan(theta) =  [ 0.00000000e+00  1.63312394e+16 -1.22464680e-16]\n"
          ]
        }
      ]
    },
    {
      "cell_type": "code",
      "metadata": {
        "colab": {
          "base_uri": "https://localhost:8080/"
        },
        "id": "tF2Y2U-6bpmD",
        "outputId": "f6482954-518c-4a1a-d86e-29cc9e9c63b1"
      },
      "source": [
        "x = [-1, 0, 1] \n",
        "print(\"x = \", x) \n",
        "print(\"arcsin(x) = \", np.arcsin(x)) \n",
        "print(\"arccos(x) = \", np.arccos(x)) \n",
        "print(\"arctan(x) = \", np.arctan(x))"
      ],
      "execution_count": 236,
      "outputs": [
        {
          "output_type": "stream",
          "name": "stdout",
          "text": [
            "x =  [-1, 0, 1]\n",
            "arcsin(x) =  [-1.57079633  0.          1.57079633]\n",
            "arccos(x) =  [3.14159265 1.57079633 0.        ]\n",
            "arctan(x) =  [-0.78539816  0.          0.78539816]\n"
          ]
        }
      ]
    },
    {
      "cell_type": "code",
      "metadata": {
        "colab": {
          "base_uri": "https://localhost:8080/"
        },
        "id": "JMG2x5Mgb54l",
        "outputId": "e6c5d8ac-d913-40bc-eef2-2d7bb2f283c2"
      },
      "source": [
        "x = [1, 2, 3] \n",
        "print(\"x =\", x) \n",
        "print(\"e^x =\", np.exp(x)) \n",
        "print(\"2^x =\", np.exp2(x)) \n",
        "print(\"3^x =\", np.power(3, x))"
      ],
      "execution_count": 237,
      "outputs": [
        {
          "output_type": "stream",
          "name": "stdout",
          "text": [
            "x = [1, 2, 3]\n",
            "e^x = [ 2.71828183  7.3890561  20.08553692]\n",
            "2^x = [2. 4. 8.]\n",
            "3^x = [ 3  9 27]\n"
          ]
        }
      ]
    },
    {
      "cell_type": "code",
      "metadata": {
        "colab": {
          "base_uri": "https://localhost:8080/"
        },
        "id": "VZbSKz2HcC_b",
        "outputId": "043131a8-3c94-4617-c3c0-4595c4fa6d7e"
      },
      "source": [
        "x = [1, 2, 4, 10] \n",
        "print(\"x =\", x) \n",
        "print(\"ln(x) =\", np.log(x)) \n",
        "print(\"log2(x) =\", np.log2(x)) \n",
        "print(\"log10(x) =\", np.log10(x))"
      ],
      "execution_count": 238,
      "outputs": [
        {
          "output_type": "stream",
          "name": "stdout",
          "text": [
            "x = [1, 2, 4, 10]\n",
            "ln(x) = [0.         0.69314718 1.38629436 2.30258509]\n",
            "log2(x) = [0.         1.         2.         3.32192809]\n",
            "log10(x) = [0.         0.30103    0.60205999 1.        ]\n"
          ]
        }
      ]
    },
    {
      "cell_type": "code",
      "metadata": {
        "colab": {
          "base_uri": "https://localhost:8080/"
        },
        "id": "Ha2WdtaGcHlk",
        "outputId": "54be5bb2-d194-4005-e196-32700933de73"
      },
      "source": [
        "x = [0, 0.001, 0.01, 0.1] \n",
        "print(\"exp(x) - 1 =\", np.expm1(x)) \n",
        "print(\"log(1 + x) =\", np.log1p(x))"
      ],
      "execution_count": 239,
      "outputs": [
        {
          "output_type": "stream",
          "name": "stdout",
          "text": [
            "exp(x) - 1 = [0.         0.0010005  0.01005017 0.10517092]\n",
            "log(1 + x) = [0.         0.0009995  0.00995033 0.09531018]\n"
          ]
        }
      ]
    },
    {
      "cell_type": "code",
      "metadata": {
        "id": "FhE4gvCfcR-s"
      },
      "source": [
        ""
      ],
      "execution_count": 239,
      "outputs": []
    },
    {
      "cell_type": "code",
      "metadata": {
        "id": "7PUGNoptcU3M"
      },
      "source": [
        "#Specialized ufuncs \n",
        "from scipy import special"
      ],
      "execution_count": 240,
      "outputs": []
    },
    {
      "cell_type": "code",
      "metadata": {
        "colab": {
          "base_uri": "https://localhost:8080/"
        },
        "id": "EwwFrWXKcZjs",
        "outputId": "6952b999-adab-4d7c-8e7d-c54e93f1d070"
      },
      "source": [
        "# Gamma functions (generalized factorials) and related functions  \n",
        "x = [1, 5, 10] \n",
        "print(\"gamma(x) =\", special.gamma(x)) \n",
        "print(\"ln|gamma(x)| =\", special.gammaln(x)) \n",
        "print(\"beta(x, 2) =\", special.beta(x, 2))"
      ],
      "execution_count": 241,
      "outputs": [
        {
          "output_type": "stream",
          "name": "stdout",
          "text": [
            "gamma(x) = [1.0000e+00 2.4000e+01 3.6288e+05]\n",
            "ln|gamma(x)| = [ 0.          3.17805383 12.80182748]\n",
            "beta(x, 2) = [0.5        0.03333333 0.00909091]\n"
          ]
        }
      ]
    },
    {
      "cell_type": "code",
      "metadata": {
        "colab": {
          "base_uri": "https://localhost:8080/"
        },
        "id": "FmMGnoxvcf20",
        "outputId": "ba3bb465-43f9-4184-ccf0-39aced78567c"
      },
      "source": [
        "# Error function (integral of Gaussian) \n",
        "# its complement, and its inverse \n",
        "x = np.array([0, 0.3, 0.7, 1.0]) \n",
        "print(\"erf(x) =\", special.erf(x)) \n",
        "print(\"erfc(x) =\", special.erfc(x)) \n",
        "print(\"erfinv(x) =\", special.erfinv(x))"
      ],
      "execution_count": 242,
      "outputs": [
        {
          "output_type": "stream",
          "name": "stdout",
          "text": [
            "erf(x) = [0.         0.32862676 0.67780119 0.84270079]\n",
            "erfc(x) = [1.         0.67137324 0.32219881 0.15729921]\n",
            "erfinv(x) = [0.         0.27246271 0.73286908        inf]\n"
          ]
        }
      ]
    },
    {
      "cell_type": "code",
      "metadata": {
        "colab": {
          "base_uri": "https://localhost:8080/"
        },
        "id": "UWIvZ1iscqwU",
        "outputId": "739cb818-dc31-4123-fdd6-e343692c24cd"
      },
      "source": [
        "#Advanced Ufunc Features \n",
        "x = np.arange(5) \n",
        "y = np.empty(5) \n",
        "np.multiply(x, 10, out=y) \n",
        "print(y)"
      ],
      "execution_count": 243,
      "outputs": [
        {
          "output_type": "stream",
          "name": "stdout",
          "text": [
            "[ 0. 10. 20. 30. 40.]\n"
          ]
        }
      ]
    },
    {
      "cell_type": "code",
      "metadata": {
        "colab": {
          "base_uri": "https://localhost:8080/"
        },
        "id": "Pp8eMV2CdDTN",
        "outputId": "07d257a1-d4a0-44f0-fc61-47e4afc2c53d"
      },
      "source": [
        "y = np.zeros(10) \n",
        "np.power(2, x, out=y[::2]) \n",
        "print(y)"
      ],
      "execution_count": 244,
      "outputs": [
        {
          "output_type": "stream",
          "name": "stdout",
          "text": [
            "[ 1.  0.  2.  0.  4.  0.  8.  0. 16.  0.]\n"
          ]
        }
      ]
    },
    {
      "cell_type": "code",
      "metadata": {
        "colab": {
          "base_uri": "https://localhost:8080/"
        },
        "id": "w98K2ksrdHG1",
        "outputId": "2e990372-66d0-4534-e0d5-7b0cf1d49b17"
      },
      "source": [
        "#Aggregates\n",
        "x = np.arange(1, 6) \n",
        "np.add.reduce(x)"
      ],
      "execution_count": 245,
      "outputs": [
        {
          "output_type": "execute_result",
          "data": {
            "text/plain": [
              "15"
            ]
          },
          "metadata": {},
          "execution_count": 245
        }
      ]
    },
    {
      "cell_type": "code",
      "metadata": {
        "colab": {
          "base_uri": "https://localhost:8080/"
        },
        "id": "j5zR75kGdOCl",
        "outputId": "c0a8f7ef-82c1-4ea0-d736-371a935dbb14"
      },
      "source": [
        "np.multiply.reduce(x)# calling reduce on the multiply ufunc results in the product of all array elements: "
      ],
      "execution_count": 246,
      "outputs": [
        {
          "output_type": "execute_result",
          "data": {
            "text/plain": [
              "120"
            ]
          },
          "metadata": {},
          "execution_count": 246
        }
      ]
    },
    {
      "cell_type": "code",
      "metadata": {
        "colab": {
          "base_uri": "https://localhost:8080/"
        },
        "id": "nqJiuCPDdQkF",
        "outputId": "9153582e-0077-450c-ae12-c8e7752561e9"
      },
      "source": [
        "np.add.accumulate(x)#use accumulate"
      ],
      "execution_count": 247,
      "outputs": [
        {
          "output_type": "execute_result",
          "data": {
            "text/plain": [
              "array([ 1,  3,  6, 10, 15])"
            ]
          },
          "metadata": {},
          "execution_count": 247
        }
      ]
    },
    {
      "cell_type": "code",
      "metadata": {
        "colab": {
          "base_uri": "https://localhost:8080/"
        },
        "id": "sAQcOlqRdrkd",
        "outputId": "13a8b247-405e-4aa2-e139-8f34e52bd9fa"
      },
      "source": [
        " np.multiply.accumulate(x)"
      ],
      "execution_count": 248,
      "outputs": [
        {
          "output_type": "execute_result",
          "data": {
            "text/plain": [
              "array([  1,   2,   6,  24, 120])"
            ]
          },
          "metadata": {},
          "execution_count": 248
        }
      ]
    },
    {
      "cell_type": "code",
      "metadata": {
        "colab": {
          "base_uri": "https://localhost:8080/"
        },
        "id": "5JrrAW0advuk",
        "outputId": "2bbdc029-e008-4bdc-ba08-01e4dd00c4cd"
      },
      "source": [
        "#Outer products \n",
        "x = np.arange(1, 6) \n",
        "np.multiply.outer(x, x)"
      ],
      "execution_count": 249,
      "outputs": [
        {
          "output_type": "execute_result",
          "data": {
            "text/plain": [
              "array([[ 1,  2,  3,  4,  5],\n",
              "       [ 2,  4,  6,  8, 10],\n",
              "       [ 3,  6,  9, 12, 15],\n",
              "       [ 4,  8, 12, 16, 20],\n",
              "       [ 5, 10, 15, 20, 25]])"
            ]
          },
          "metadata": {},
          "execution_count": 249
        }
      ]
    },
    {
      "cell_type": "code",
      "metadata": {
        "id": "Sp5IzAWPd2Wf"
      },
      "source": [
        "#Summing the Values in an Array\n",
        "import numpy as np"
      ],
      "execution_count": 250,
      "outputs": []
    },
    {
      "cell_type": "code",
      "metadata": {
        "colab": {
          "base_uri": "https://localhost:8080/"
        },
        "id": "9qpusH_wd9Wl",
        "outputId": "51c53837-3027-4aa3-fdd4-cba1f6543eef"
      },
      "source": [
        "L = np.random.random(100) \n",
        "sum(L) "
      ],
      "execution_count": 251,
      "outputs": [
        {
          "output_type": "execute_result",
          "data": {
            "text/plain": [
              "50.461758453195614"
            ]
          },
          "metadata": {},
          "execution_count": 251
        }
      ]
    },
    {
      "cell_type": "code",
      "metadata": {
        "colab": {
          "base_uri": "https://localhost:8080/"
        },
        "id": "gPSfiRNxeFId",
        "outputId": "050da615-22c6-4782-c8de-b339c4e66f0f"
      },
      "source": [
        "np.sum(L)"
      ],
      "execution_count": 252,
      "outputs": [
        {
          "output_type": "execute_result",
          "data": {
            "text/plain": [
              "50.46175845319564"
            ]
          },
          "metadata": {},
          "execution_count": 252
        }
      ]
    },
    {
      "cell_type": "code",
      "metadata": {
        "colab": {
          "base_uri": "https://localhost:8080/"
        },
        "id": "uLnliJ5-eKX9",
        "outputId": "b9e48f9a-ff66-4f1c-d500-e7cd4569775f"
      },
      "source": [
        "big_array = np.random.rand(1000000) \n",
        "%timeit sum(big_array) \n",
        "%timeit np.sum(big_array)"
      ],
      "execution_count": 253,
      "outputs": [
        {
          "output_type": "stream",
          "name": "stdout",
          "text": [
            "1 loop, best of 5: 153 ms per loop\n",
            "1000 loops, best of 5: 410 µs per loop\n"
          ]
        }
      ]
    },
    {
      "cell_type": "code",
      "metadata": {
        "colab": {
          "base_uri": "https://localhost:8080/"
        },
        "id": "YmbKagf2eQ41",
        "outputId": "8dbce3cb-4bc0-4561-b830-7c62002b4984"
      },
      "source": [
        "#Minimum and Maximum\n",
        "min(big_array), max(big_array)"
      ],
      "execution_count": 254,
      "outputs": [
        {
          "output_type": "execute_result",
          "data": {
            "text/plain": [
              "(7.071203171893359e-07, 0.9999997207656334)"
            ]
          },
          "metadata": {},
          "execution_count": 254
        }
      ]
    },
    {
      "cell_type": "code",
      "metadata": {
        "colab": {
          "base_uri": "https://localhost:8080/"
        },
        "id": "8toImavKeXCV",
        "outputId": "6647d9c1-a6e9-41d5-e939-675e9c2cc86d"
      },
      "source": [
        "#similar syntax, and again operate much more quickly\n",
        "np.min(big_array), np.max(big_array)"
      ],
      "execution_count": 255,
      "outputs": [
        {
          "output_type": "execute_result",
          "data": {
            "text/plain": [
              "(7.071203171893359e-07, 0.9999997207656334)"
            ]
          },
          "metadata": {},
          "execution_count": 255
        }
      ]
    },
    {
      "cell_type": "code",
      "metadata": {
        "colab": {
          "base_uri": "https://localhost:8080/"
        },
        "id": "ShaV9ydReZ08",
        "outputId": "392f37ab-293d-4c23-d00c-e03d60576dfe"
      },
      "source": [
        "%timeit min(big_array) \n",
        "%timeit np.min(big_array)"
      ],
      "execution_count": 256,
      "outputs": [
        {
          "output_type": "stream",
          "name": "stdout",
          "text": [
            "10 loops, best of 5: 103 ms per loop\n",
            "1000 loops, best of 5: 353 µs per loop\n"
          ]
        }
      ]
    },
    {
      "cell_type": "code",
      "metadata": {
        "colab": {
          "base_uri": "https://localhost:8080/"
        },
        "id": "GO3y0cPweg_2",
        "outputId": "1b14b44a-fee4-4d15-82d6-a61bbbd0f63a"
      },
      "source": [
        "print(big_array.min(), big_array.max(), big_array.sum())"
      ],
      "execution_count": 257,
      "outputs": [
        {
          "output_type": "stream",
          "name": "stdout",
          "text": [
            "7.071203171893359e-07 0.9999997207656334 500216.8034810001\n"
          ]
        }
      ]
    },
    {
      "cell_type": "code",
      "metadata": {
        "colab": {
          "base_uri": "https://localhost:8080/"
        },
        "id": "rFZn4FCdeyKt",
        "outputId": "d153b85c-2a45-453c-a96e-db81a09240da"
      },
      "source": [
        "#Multidimensional aggregates \n",
        "M = np.random.random((3, 4)) \n",
        "print(M)"
      ],
      "execution_count": 258,
      "outputs": [
        {
          "output_type": "stream",
          "name": "stdout",
          "text": [
            "[[0.79832448 0.44923861 0.95274259 0.03193135]\n",
            " [0.18441813 0.71417358 0.76371195 0.11957117]\n",
            " [0.37578601 0.11936151 0.37497044 0.22944653]]\n"
          ]
        }
      ]
    },
    {
      "cell_type": "code",
      "metadata": {
        "colab": {
          "base_uri": "https://localhost:8080/"
        },
        "id": "XbltPXpVe6O0",
        "outputId": "d7ce3137-c6e4-44e7-9b4f-b0bc3c52d873"
      },
      "source": [
        "M.sum()"
      ],
      "execution_count": 259,
      "outputs": [
        {
          "output_type": "execute_result",
          "data": {
            "text/plain": [
              "5.1136763453287335"
            ]
          },
          "metadata": {},
          "execution_count": 259
        }
      ]
    },
    {
      "cell_type": "code",
      "metadata": {
        "colab": {
          "base_uri": "https://localhost:8080/"
        },
        "id": "zCH0iEJ8e6VE",
        "outputId": "44caf588-6109-46aa-cd9c-c4671f4681ed"
      },
      "source": [
        " M.min(axis=0)"
      ],
      "execution_count": 260,
      "outputs": [
        {
          "output_type": "execute_result",
          "data": {
            "text/plain": [
              "array([0.18441813, 0.11936151, 0.37497044, 0.03193135])"
            ]
          },
          "metadata": {},
          "execution_count": 260
        }
      ]
    },
    {
      "cell_type": "code",
      "metadata": {
        "colab": {
          "base_uri": "https://localhost:8080/"
        },
        "id": "WtvYvNn3fHsm",
        "outputId": "256635f0-6607-42d2-e5a2-cbc473da372d"
      },
      "source": [
        "M.max(axis=1)"
      ],
      "execution_count": 261,
      "outputs": [
        {
          "output_type": "execute_result",
          "data": {
            "text/plain": [
              "array([0.95274259, 0.76371195, 0.37578601])"
            ]
          },
          "metadata": {},
          "execution_count": 261
        }
      ]
    },
    {
      "cell_type": "code",
      "metadata": {
        "id": "DR6kjgacfLHm"
      },
      "source": [
        "#Aggregation functions available in NumPy \n",
        "#Function Name NaN-safe Version Description \n",
        "#np.sum np.nansum Compute sum of elements \n",
        "#np.prod np.nanprod Compute product of elements \n",
        "#np.mean np.nanmean Compute median of elements \n",
        "#np.std np.nanstd Compute standard deviation \n",
        "#np.var np.nanvar Compute variance \n",
        "#np.min np.nanmin Find minimum value \n",
        "#np.max np.nanmax Find maximum value \n",
        "#np.argmin np.nanargmin Find index of minimum value \n",
        "#np.argmax np.nanargmax Find index of maximum value \n",
        "#np.median np.nanmedian Compute median of elements \n",
        "#np.percentile np.nanpercentile Compute rank-based statistics of elements \n",
        "#np.any N/A Evaluate whether any elements are true \n",
        "#np.all N/A Evaluate whether all elements are true"
      ],
      "execution_count": 262,
      "outputs": []
    },
    {
      "cell_type": "code",
      "metadata": {
        "colab": {
          "base_uri": "https://localhost:8080/"
        },
        "id": "87bA8rv4fb4-",
        "outputId": "80aabbca-051a-473b-e029-1f09acfe989e"
      },
      "source": [
        "#president_heights.csv\n",
        "!head -4 data/president_heights.csv"
      ],
      "execution_count": 263,
      "outputs": [
        {
          "output_type": "stream",
          "name": "stdout",
          "text": [
            "head: cannot open 'data/president_heights.csv' for reading: No such file or directory\n"
          ]
        }
      ]
    },
    {
      "cell_type": "code",
      "metadata": {
        "id": "eNM8xLP6bwTg"
      },
      "source": [
        "#Broadcasting\n",
        "import numpy as np"
      ],
      "execution_count": 264,
      "outputs": []
    },
    {
      "cell_type": "code",
      "metadata": {
        "colab": {
          "base_uri": "https://localhost:8080/"
        },
        "id": "9_5knJ3QcA8l",
        "outputId": "87d02178-e4c3-4cfd-e6fa-f4a9fd573f2d"
      },
      "source": [
        "a = np.array([0, 1, 2])\n",
        "b = np.array([5, 5, 5])\n",
        "a + b"
      ],
      "execution_count": 265,
      "outputs": [
        {
          "output_type": "execute_result",
          "data": {
            "text/plain": [
              "array([5, 6, 7])"
            ]
          },
          "metadata": {},
          "execution_count": 265
        }
      ]
    },
    {
      "cell_type": "code",
      "metadata": {
        "colab": {
          "base_uri": "https://localhost:8080/"
        },
        "id": "pIawyImccFUN",
        "outputId": "c5585bbf-8a21-41c3-a38c-98c8e572e8c2"
      },
      "source": [
        "a + 5"
      ],
      "execution_count": 266,
      "outputs": [
        {
          "output_type": "execute_result",
          "data": {
            "text/plain": [
              "array([5, 6, 7])"
            ]
          },
          "metadata": {},
          "execution_count": 266
        }
      ]
    },
    {
      "cell_type": "code",
      "metadata": {
        "colab": {
          "base_uri": "https://localhost:8080/"
        },
        "id": "QWYs3r0lcKxG",
        "outputId": "8f5ea682-375d-43eb-fdfc-f2b338dd6e64"
      },
      "source": [
        "M = np.ones((3, 3))\n",
        "M"
      ],
      "execution_count": 267,
      "outputs": [
        {
          "output_type": "execute_result",
          "data": {
            "text/plain": [
              "array([[1., 1., 1.],\n",
              "       [1., 1., 1.],\n",
              "       [1., 1., 1.]])"
            ]
          },
          "metadata": {},
          "execution_count": 267
        }
      ]
    },
    {
      "cell_type": "code",
      "metadata": {
        "colab": {
          "base_uri": "https://localhost:8080/"
        },
        "id": "3iXi5nejcR4O",
        "outputId": "e170452e-8ad1-4714-9cc3-2cc4da45cbf6"
      },
      "source": [
        "M + a"
      ],
      "execution_count": 268,
      "outputs": [
        {
          "output_type": "execute_result",
          "data": {
            "text/plain": [
              "array([[1., 2., 3.],\n",
              "       [1., 2., 3.],\n",
              "       [1., 2., 3.]])"
            ]
          },
          "metadata": {},
          "execution_count": 268
        }
      ]
    },
    {
      "cell_type": "code",
      "metadata": {
        "colab": {
          "base_uri": "https://localhost:8080/"
        },
        "id": "gcJ3LViKcaZb",
        "outputId": "244a18c6-3646-4d12-cdc2-dcc25180c05a"
      },
      "source": [
        "a = np.arange(3)\n",
        "b = np.arange(3)[:, np.newaxis]\n",
        "print(a)\n",
        "print(b)"
      ],
      "execution_count": 269,
      "outputs": [
        {
          "output_type": "stream",
          "name": "stdout",
          "text": [
            "[0 1 2]\n",
            "[[0]\n",
            " [1]\n",
            " [2]]\n"
          ]
        }
      ]
    },
    {
      "cell_type": "code",
      "metadata": {
        "colab": {
          "base_uri": "https://localhost:8080/"
        },
        "id": "bEZrmuVocdmc",
        "outputId": "72c1c2a2-2e64-41a3-b5b1-12ce83900031"
      },
      "source": [
        "a + b"
      ],
      "execution_count": 270,
      "outputs": [
        {
          "output_type": "execute_result",
          "data": {
            "text/plain": [
              "array([[0, 1, 2],\n",
              "       [1, 2, 3],\n",
              "       [2, 3, 4]])"
            ]
          },
          "metadata": {},
          "execution_count": 270
        }
      ]
    },
    {
      "cell_type": "code",
      "metadata": {
        "id": "NMaKA07ZchEE"
      },
      "source": [
        "M = np.ones((2, 3))\n",
        "a = np.arange(3)\n"
      ],
      "execution_count": 271,
      "outputs": []
    },
    {
      "cell_type": "code",
      "metadata": {
        "colab": {
          "base_uri": "https://localhost:8080/"
        },
        "id": "mtYmYA4dcrV2",
        "outputId": "96f39fdd-49d1-45ef-c781-973b4fa6a91d"
      },
      "source": [
        "M + a"
      ],
      "execution_count": 272,
      "outputs": [
        {
          "output_type": "execute_result",
          "data": {
            "text/plain": [
              "array([[1., 2., 3.],\n",
              "       [1., 2., 3.]])"
            ]
          },
          "metadata": {},
          "execution_count": 272
        }
      ]
    },
    {
      "cell_type": "code",
      "metadata": {
        "id": "1FiVJHOTc0Gt"
      },
      "source": [
        "a = np.arange(3).reshape((3, 1))\n",
        "b = np.arange(3)"
      ],
      "execution_count": 273,
      "outputs": []
    },
    {
      "cell_type": "code",
      "metadata": {
        "colab": {
          "base_uri": "https://localhost:8080/"
        },
        "id": "gj6mlfguc2xV",
        "outputId": "bdb9adf5-19a5-41d1-bdee-7d51b76efcb8"
      },
      "source": [
        "a + b"
      ],
      "execution_count": 274,
      "outputs": [
        {
          "output_type": "execute_result",
          "data": {
            "text/plain": [
              "array([[0, 1, 2],\n",
              "       [1, 2, 3],\n",
              "       [2, 3, 4]])"
            ]
          },
          "metadata": {},
          "execution_count": 274
        }
      ]
    },
    {
      "cell_type": "code",
      "metadata": {
        "id": "qjJzU3Sec9wW"
      },
      "source": [
        "M = np.ones((3, 2))\n",
        "a = np.arange(3)"
      ],
      "execution_count": 275,
      "outputs": []
    },
    {
      "cell_type": "code",
      "metadata": {
        "colab": {
          "base_uri": "https://localhost:8080/",
          "height": 163
        },
        "id": "SiaCZ3hzdF-v",
        "outputId": "ffb37e21-c8f1-47e2-8c38-b80445b78b96"
      },
      "source": [
        "M + a"
      ],
      "execution_count": 276,
      "outputs": [
        {
          "output_type": "error",
          "ename": "ValueError",
          "evalue": "ignored",
          "traceback": [
            "\u001b[0;31m---------------------------------------------------------------------------\u001b[0m",
            "\u001b[0;31mValueError\u001b[0m                                Traceback (most recent call last)",
            "\u001b[0;32m<ipython-input-276-8cac1d547906>\u001b[0m in \u001b[0;36m<module>\u001b[0;34m()\u001b[0m\n\u001b[0;32m----> 1\u001b[0;31m \u001b[0mM\u001b[0m \u001b[0;34m+\u001b[0m \u001b[0ma\u001b[0m\u001b[0;34m\u001b[0m\u001b[0;34m\u001b[0m\u001b[0m\n\u001b[0m",
            "\u001b[0;31mValueError\u001b[0m: operands could not be broadcast together with shapes (3,2) (3,) "
          ]
        }
      ]
    },
    {
      "cell_type": "code",
      "metadata": {
        "colab": {
          "base_uri": "https://localhost:8080/"
        },
        "id": "FBYm-I0zdSoG",
        "outputId": "d8b5008b-cabd-4ef5-b880-72cc8ffa9dcf"
      },
      "source": [
        "a[:, np.newaxis].shape"
      ],
      "execution_count": 277,
      "outputs": [
        {
          "output_type": "execute_result",
          "data": {
            "text/plain": [
              "(3, 1)"
            ]
          },
          "metadata": {},
          "execution_count": 277
        }
      ]
    },
    {
      "cell_type": "code",
      "metadata": {
        "colab": {
          "base_uri": "https://localhost:8080/"
        },
        "id": "ROdmr28JdUFX",
        "outputId": "0f113994-32ef-4da2-9778-98a9c6d6ccb4"
      },
      "source": [
        " M + a[:, np.newaxis]"
      ],
      "execution_count": 278,
      "outputs": [
        {
          "output_type": "execute_result",
          "data": {
            "text/plain": [
              "array([[1., 1.],\n",
              "       [2., 2.],\n",
              "       [3., 3.]])"
            ]
          },
          "metadata": {},
          "execution_count": 278
        }
      ]
    },
    {
      "cell_type": "code",
      "metadata": {
        "colab": {
          "base_uri": "https://localhost:8080/"
        },
        "id": "zZ-x5eprdYFG",
        "outputId": "9fd681d1-de9e-4878-cb00-118db7f7d93c"
      },
      "source": [
        "np.logaddexp(M, a[:, np.newaxis])"
      ],
      "execution_count": 279,
      "outputs": [
        {
          "output_type": "execute_result",
          "data": {
            "text/plain": [
              "array([[1.31326169, 1.31326169],\n",
              "       [1.69314718, 1.69314718],\n",
              "       [2.31326169, 2.31326169]])"
            ]
          },
          "metadata": {},
          "execution_count": 279
        }
      ]
    },
    {
      "cell_type": "code",
      "metadata": {
        "id": "jDfcCMb8dbv_"
      },
      "source": [
        "X = np.random.random((10, 3)) #store this in a 10×3 array"
      ],
      "execution_count": 280,
      "outputs": []
    },
    {
      "cell_type": "code",
      "metadata": {
        "colab": {
          "base_uri": "https://localhost:8080/"
        },
        "id": "sadQ0fc8doVg",
        "outputId": "9fcdada9-4e7a-4018-c742-77ca88151dac"
      },
      "source": [
        "Xmean = X.mean(0)\n",
        "Xmean"
      ],
      "execution_count": 281,
      "outputs": [
        {
          "output_type": "execute_result",
          "data": {
            "text/plain": [
              "array([0.49831076, 0.50193438, 0.46752888])"
            ]
          },
          "metadata": {},
          "execution_count": 281
        }
      ]
    },
    {
      "cell_type": "code",
      "metadata": {
        "id": "_09-07PudtcP"
      },
      "source": [
        "X_centered = X - Xmean"
      ],
      "execution_count": 282,
      "outputs": []
    },
    {
      "cell_type": "code",
      "metadata": {
        "colab": {
          "base_uri": "https://localhost:8080/"
        },
        "id": "FKqkH9Did0pf",
        "outputId": "15360915-6c8f-4dc6-fd99-0b83d9bb85fa"
      },
      "source": [
        " X_centered.mean(0)"
      ],
      "execution_count": 283,
      "outputs": [
        {
          "output_type": "execute_result",
          "data": {
            "text/plain": [
              "array([-4.44089210e-17,  3.33066907e-17, -9.43689571e-17])"
            ]
          },
          "metadata": {},
          "execution_count": 283
        }
      ]
    },
    {
      "cell_type": "code",
      "metadata": {
        "id": "dBp8KIK4d4lP"
      },
      "source": [
        "#Plotting a two-dimensional function\n",
        "# x and y have 50 steps from 0 to 5\n",
        "x = np.linspace(0, 5, 50)\n",
        "y = np.linspace(0, 5, 50)[:, np.newaxis]\n",
        "z = np.sin(x) ** 10 + np.cos(10 + y * x) * np.cos(x)"
      ],
      "execution_count": 284,
      "outputs": []
    },
    {
      "cell_type": "code",
      "metadata": {
        "id": "ymxvtTlYeBnZ"
      },
      "source": [
        "%matplotlib inline\n",
        "import matplotlib.pyplot as plt"
      ],
      "execution_count": 285,
      "outputs": []
    },
    {
      "cell_type": "code",
      "metadata": {
        "colab": {
          "base_uri": "https://localhost:8080/",
          "height": 269
        },
        "id": "7YLYujmheHIf",
        "outputId": "eee9b729-c1f5-4a29-894e-82d53f232b66"
      },
      "source": [
        "plt.imshow(z, origin='lower', extent=[0, 5, 0, 5],cmap='viridis')\n",
        "plt.colorbar();"
      ],
      "execution_count": 286,
      "outputs": [
        {
          "output_type": "display_data",
          "data": {
            "image/png": "[encoded data removed]",
            "text/plain": [
              "<Figure size 432x288 with 2 Axes>"
            ]
          },
          "metadata": {
            "needs_background": "light"
          }
        }
      ]
    },
    {
      "cell_type": "code",
      "metadata": {
        "colab": {
          "base_uri": "https://localhost:8080/"
        },
        "id": "GwtFBuB1eNfH",
        "outputId": "3670410d-cc94-4c10-eef3-22b8b6246fb9"
      },
      "source": [
        "#Comparison Operators as ufuncs\n",
        "x = np.array([1, 2, 3, 4, 5])\n",
        "x"
      ],
      "execution_count": 287,
      "outputs": [
        {
          "output_type": "execute_result",
          "data": {
            "text/plain": [
              "array([1, 2, 3, 4, 5])"
            ]
          },
          "metadata": {},
          "execution_count": 287
        }
      ]
    },
    {
      "cell_type": "code",
      "metadata": {
        "colab": {
          "base_uri": "https://localhost:8080/"
        },
        "id": "ePjmBegJeZhg",
        "outputId": "c5aa30cf-161b-493b-f353-40470cacc5a7"
      },
      "source": [
        "x < 3 # less than"
      ],
      "execution_count": 288,
      "outputs": [
        {
          "output_type": "execute_result",
          "data": {
            "text/plain": [
              "array([ True,  True, False, False, False])"
            ]
          },
          "metadata": {},
          "execution_count": 288
        }
      ]
    },
    {
      "cell_type": "code",
      "metadata": {
        "colab": {
          "base_uri": "https://localhost:8080/"
        },
        "id": "Tu_XPqZieciH",
        "outputId": "79475c9d-e58f-40ae-c61e-097e2075c13a"
      },
      "source": [
        "x > 3 # greater than"
      ],
      "execution_count": 289,
      "outputs": [
        {
          "output_type": "execute_result",
          "data": {
            "text/plain": [
              "array([False, False, False,  True,  True])"
            ]
          },
          "metadata": {},
          "execution_count": 289
        }
      ]
    },
    {
      "cell_type": "code",
      "metadata": {
        "colab": {
          "base_uri": "https://localhost:8080/"
        },
        "id": "7YHH4_VhelNv",
        "outputId": "cc0e8469-9454-45fb-b9ea-c455bd0ddff7"
      },
      "source": [
        "x <= 3 # less than or equal"
      ],
      "execution_count": 290,
      "outputs": [
        {
          "output_type": "execute_result",
          "data": {
            "text/plain": [
              "array([ True,  True,  True, False, False])"
            ]
          },
          "metadata": {},
          "execution_count": 290
        }
      ]
    },
    {
      "cell_type": "code",
      "metadata": {
        "colab": {
          "base_uri": "https://localhost:8080/"
        },
        "id": "PwOEHuHMeom_",
        "outputId": "3647addd-07f2-4097-e19e-104e504d4052"
      },
      "source": [
        "x >= 3 # greater than or equal"
      ],
      "execution_count": 291,
      "outputs": [
        {
          "output_type": "execute_result",
          "data": {
            "text/plain": [
              "array([False, False,  True,  True,  True])"
            ]
          },
          "metadata": {},
          "execution_count": 291
        }
      ]
    },
    {
      "cell_type": "code",
      "metadata": {
        "colab": {
          "base_uri": "https://localhost:8080/"
        },
        "id": "Gjp6Yb_ResHH",
        "outputId": "bbccb387-5ff6-4a19-9e70-c5daf8936f3b"
      },
      "source": [
        "x != 3 # not equal"
      ],
      "execution_count": 292,
      "outputs": [
        {
          "output_type": "execute_result",
          "data": {
            "text/plain": [
              "array([ True,  True, False,  True,  True])"
            ]
          },
          "metadata": {},
          "execution_count": 292
        }
      ]
    },
    {
      "cell_type": "code",
      "metadata": {
        "colab": {
          "base_uri": "https://localhost:8080/"
        },
        "id": "Nrv7yl3MevFf",
        "outputId": "7ef9921a-9f47-49ba-a230-1c76369fca9f"
      },
      "source": [
        " x == 3 # equal"
      ],
      "execution_count": 293,
      "outputs": [
        {
          "output_type": "execute_result",
          "data": {
            "text/plain": [
              "array([False, False,  True, False, False])"
            ]
          },
          "metadata": {},
          "execution_count": 293
        }
      ]
    },
    {
      "cell_type": "code",
      "metadata": {
        "colab": {
          "base_uri": "https://localhost:8080/"
        },
        "id": "TwwMUkpHeykI",
        "outputId": "da789391-e8dc-40ba-8959-4d53d0dcdaff"
      },
      "source": [
        "(2 * x) == (x ** 2)"
      ],
      "execution_count": 294,
      "outputs": [
        {
          "output_type": "execute_result",
          "data": {
            "text/plain": [
              "array([False,  True, False, False, False])"
            ]
          },
          "metadata": {},
          "execution_count": 294
        }
      ]
    },
    {
      "cell_type": "code",
      "metadata": {
        "colab": {
          "base_uri": "https://localhost:8080/"
        },
        "id": "IPhL4CJvfBkg",
        "outputId": "2c6ac2bf-abcd-42d5-bbc4-064da4062e7c"
      },
      "source": [
        "rng = np.random.RandomState(0)\n",
        "x = rng.randint(10, size=(3, 4))\n",
        "x"
      ],
      "execution_count": 295,
      "outputs": [
        {
          "output_type": "execute_result",
          "data": {
            "text/plain": [
              "array([[5, 0, 3, 3],\n",
              "       [7, 9, 3, 5],\n",
              "       [2, 4, 7, 6]])"
            ]
          },
          "metadata": {},
          "execution_count": 295
        }
      ]
    },
    {
      "cell_type": "code",
      "metadata": {
        "colab": {
          "base_uri": "https://localhost:8080/"
        },
        "id": "SA8-QBH0fD5Z",
        "outputId": "f2170e1f-6214-4a83-ffc9-7b41bfc40801"
      },
      "source": [
        "x < 6"
      ],
      "execution_count": 296,
      "outputs": [
        {
          "output_type": "execute_result",
          "data": {
            "text/plain": [
              "array([[ True,  True,  True,  True],\n",
              "       [False, False,  True,  True],\n",
              "       [ True,  True, False, False]])"
            ]
          },
          "metadata": {},
          "execution_count": 296
        }
      ]
    },
    {
      "cell_type": "code",
      "metadata": {
        "colab": {
          "base_uri": "https://localhost:8080/"
        },
        "id": "xzxZCoJXfH23",
        "outputId": "5e38ed53-a271-494b-e041-c7788b366628"
      },
      "source": [
        "#Boolean Arrays\n",
        "print(x)"
      ],
      "execution_count": 297,
      "outputs": [
        {
          "output_type": "stream",
          "name": "stdout",
          "text": [
            "[[5 0 3 3]\n",
            " [7 9 3 5]\n",
            " [2 4 7 6]]\n"
          ]
        }
      ]
    },
    {
      "cell_type": "code",
      "metadata": {
        "colab": {
          "base_uri": "https://localhost:8080/"
        },
        "id": "tuA5ju0UfQ5o",
        "outputId": "cdf66c32-d5d0-4e1c-a504-b4a0aa2cb7ca"
      },
      "source": [
        "# how many values less than 6?\n",
        "np.count_nonzero(x < 6)"
      ],
      "execution_count": 298,
      "outputs": [
        {
          "output_type": "execute_result",
          "data": {
            "text/plain": [
              "8"
            ]
          },
          "metadata": {},
          "execution_count": 298
        }
      ]
    },
    {
      "cell_type": "code",
      "metadata": {
        "colab": {
          "base_uri": "https://localhost:8080/"
        },
        "id": "7QszcvPSfUXo",
        "outputId": "0cba6ff1-cca0-4951-ece8-b7ea2c29e6cc"
      },
      "source": [
        "np.sum(x < 6)"
      ],
      "execution_count": 299,
      "outputs": [
        {
          "output_type": "execute_result",
          "data": {
            "text/plain": [
              "8"
            ]
          },
          "metadata": {},
          "execution_count": 299
        }
      ]
    },
    {
      "cell_type": "code",
      "metadata": {
        "colab": {
          "base_uri": "https://localhost:8080/"
        },
        "id": "RnKGms6ffXWn",
        "outputId": "fdf33a06-1bef-4568-acf6-8ddb8f8bb984"
      },
      "source": [
        "# how many values less than 6 in each row?\n",
        "np.sum(x < 6, axis=1)\n"
      ],
      "execution_count": 300,
      "outputs": [
        {
          "output_type": "execute_result",
          "data": {
            "text/plain": [
              "array([4, 2, 2])"
            ]
          },
          "metadata": {},
          "execution_count": 300
        }
      ]
    },
    {
      "cell_type": "code",
      "metadata": {
        "colab": {
          "base_uri": "https://localhost:8080/"
        },
        "id": "Exj4wHgBfa-B",
        "outputId": "200c328b-a20a-46c6-8453-86baa074cfcd"
      },
      "source": [
        "# are there any values greater than 8?\n",
        "np.any(x > 8)\n"
      ],
      "execution_count": 301,
      "outputs": [
        {
          "output_type": "execute_result",
          "data": {
            "text/plain": [
              "True"
            ]
          },
          "metadata": {},
          "execution_count": 301
        }
      ]
    },
    {
      "cell_type": "code",
      "metadata": {
        "colab": {
          "base_uri": "https://localhost:8080/"
        },
        "id": "oYCKgWM-ffNg",
        "outputId": "dafda9d1-115a-4a7d-9b92-559db7e482de"
      },
      "source": [
        "# are there any values less than zero?\n",
        "np.any(x < 0)\n"
      ],
      "execution_count": 302,
      "outputs": [
        {
          "output_type": "execute_result",
          "data": {
            "text/plain": [
              "False"
            ]
          },
          "metadata": {},
          "execution_count": 302
        }
      ]
    },
    {
      "cell_type": "code",
      "metadata": {
        "colab": {
          "base_uri": "https://localhost:8080/"
        },
        "id": "zl5IiEuufi0w",
        "outputId": "eacc384d-01b4-4887-c08d-de678dcb7fe5"
      },
      "source": [
        "# are all values less than 10?\n",
        "np.all(x < 10)"
      ],
      "execution_count": 304,
      "outputs": [
        {
          "output_type": "execute_result",
          "data": {
            "text/plain": [
              "True"
            ]
          },
          "metadata": {},
          "execution_count": 304
        }
      ]
    },
    {
      "cell_type": "code",
      "metadata": {
        "colab": {
          "base_uri": "https://localhost:8080/"
        },
        "id": "pHLrsAQgfrkA",
        "outputId": "8e0695de-ce76-4513-dca9-d4171dbca667"
      },
      "source": [
        "# are all values equal to 6?\n",
        "np.all(x == 6)"
      ],
      "execution_count": 305,
      "outputs": [
        {
          "output_type": "execute_result",
          "data": {
            "text/plain": [
              "False"
            ]
          },
          "metadata": {},
          "execution_count": 305
        }
      ]
    },
    {
      "cell_type": "code",
      "metadata": {
        "colab": {
          "base_uri": "https://localhost:8080/"
        },
        "id": "eA9v8vCrfvbo",
        "outputId": "0a807ab9-1102-4749-f1b6-02476ec9d920"
      },
      "source": [
        "# are all values in each row less than 8?\n",
        "np.all(x < 8, axis=1)"
      ],
      "execution_count": 306,
      "outputs": [
        {
          "output_type": "execute_result",
          "data": {
            "text/plain": [
              "array([ True, False,  True])"
            ]
          },
          "metadata": {},
          "execution_count": 306
        }
      ]
    },
    {
      "cell_type": "code",
      "metadata": {
        "colab": {
          "base_uri": "https://localhost:8080/",
          "height": 163
        },
        "id": "wfKHPTORgBVA",
        "outputId": "e954753e-d336-4232-bd02-bc1bcdac0deb"
      },
      "source": [
        "np.sum((inches > 0.5) & (inches < 1))"
      ],
      "execution_count": 307,
      "outputs": [
        {
          "output_type": "error",
          "ename": "NameError",
          "evalue": "ignored",
          "traceback": [
            "\u001b[0;31m---------------------------------------------------------------------------\u001b[0m",
            "\u001b[0;31mNameError\u001b[0m                                 Traceback (most recent call last)",
            "\u001b[0;32m<ipython-input-307-3fa79ab72aeb>\u001b[0m in \u001b[0;36m<module>\u001b[0;34m()\u001b[0m\n\u001b[0;32m----> 1\u001b[0;31m \u001b[0mnp\u001b[0m\u001b[0;34m.\u001b[0m\u001b[0msum\u001b[0m\u001b[0;34m(\u001b[0m\u001b[0;34m(\u001b[0m\u001b[0minches\u001b[0m \u001b[0;34m>\u001b[0m \u001b[0;36m0.5\u001b[0m\u001b[0;34m)\u001b[0m \u001b[0;34m&\u001b[0m \u001b[0;34m(\u001b[0m\u001b[0minches\u001b[0m \u001b[0;34m<\u001b[0m \u001b[0;36m1\u001b[0m\u001b[0;34m)\u001b[0m\u001b[0;34m)\u001b[0m\u001b[0;34m\u001b[0m\u001b[0;34m\u001b[0m\u001b[0m\n\u001b[0m",
            "\u001b[0;31mNameError\u001b[0m: name 'inches' is not defined"
          ]
        }
      ]
    },
    {
      "cell_type": "code",
      "metadata": {
        "colab": {
          "base_uri": "https://localhost:8080/",
          "height": 163
        },
        "id": "_Z9rW-TXh-aR",
        "outputId": "21913a14-ead6-40d9-b2ec-a970058672f6"
      },
      "source": [
        "inches > (0.5 & inches) < 1"
      ],
      "execution_count": 308,
      "outputs": [
        {
          "output_type": "error",
          "ename": "NameError",
          "evalue": "ignored",
          "traceback": [
            "\u001b[0;31m---------------------------------------------------------------------------\u001b[0m",
            "\u001b[0;31mNameError\u001b[0m                                 Traceback (most recent call last)",
            "\u001b[0;32m<ipython-input-308-73550ca2fd21>\u001b[0m in \u001b[0;36m<module>\u001b[0;34m()\u001b[0m\n\u001b[0;32m----> 1\u001b[0;31m \u001b[0minches\u001b[0m \u001b[0;34m>\u001b[0m \u001b[0;34m(\u001b[0m\u001b[0;36m0.5\u001b[0m \u001b[0;34m&\u001b[0m \u001b[0minches\u001b[0m\u001b[0;34m)\u001b[0m \u001b[0;34m<\u001b[0m \u001b[0;36m1\u001b[0m\u001b[0;34m\u001b[0m\u001b[0;34m\u001b[0m\u001b[0m\n\u001b[0m",
            "\u001b[0;31mNameError\u001b[0m: name 'inches' is not defined"
          ]
        }
      ]
    },
    {
      "cell_type": "code",
      "metadata": {
        "colab": {
          "base_uri": "https://localhost:8080/",
          "height": 163
        },
        "id": "qr9Osa6bgj3U",
        "outputId": "4149c1af-cb77-4801-a4f6-5acdfb4f9866"
      },
      "source": [
        "np.sum(~( (inches <= 0.5) | (inches >= 1) ))"
      ],
      "execution_count": 309,
      "outputs": [
        {
          "output_type": "error",
          "ename": "NameError",
          "evalue": "ignored",
          "traceback": [
            "\u001b[0;31m---------------------------------------------------------------------------\u001b[0m",
            "\u001b[0;31mNameError\u001b[0m                                 Traceback (most recent call last)",
            "\u001b[0;32m<ipython-input-309-2da4ff77665f>\u001b[0m in \u001b[0;36m<module>\u001b[0;34m()\u001b[0m\n\u001b[0;32m----> 1\u001b[0;31m \u001b[0mnp\u001b[0m\u001b[0;34m.\u001b[0m\u001b[0msum\u001b[0m\u001b[0;34m(\u001b[0m\u001b[0;34m~\u001b[0m\u001b[0;34m(\u001b[0m \u001b[0;34m(\u001b[0m\u001b[0minches\u001b[0m \u001b[0;34m<=\u001b[0m \u001b[0;36m0.5\u001b[0m\u001b[0;34m)\u001b[0m \u001b[0;34m|\u001b[0m \u001b[0;34m(\u001b[0m\u001b[0minches\u001b[0m \u001b[0;34m>=\u001b[0m \u001b[0;36m1\u001b[0m\u001b[0;34m)\u001b[0m \u001b[0;34m)\u001b[0m\u001b[0;34m)\u001b[0m\u001b[0;34m\u001b[0m\u001b[0;34m\u001b[0m\u001b[0m\n\u001b[0m",
            "\u001b[0;31mNameError\u001b[0m: name 'inches' is not defined"
          ]
        }
      ]
    },
    {
      "cell_type": "code",
      "metadata": {
        "colab": {
          "base_uri": "https://localhost:8080/",
          "height": 231
        },
        "id": "3D9oI4aNiEdQ",
        "outputId": "e9d83ade-60b2-4c32-c98c-76846b9c8786"
      },
      "source": [
        "print(\"Number days without rain: \", np.sum(inches == 0))\n",
        "print(\"Number days with rain: \", np.sum(inches != 0))\n",
        "print(\"Days with more than 0.5 inches:\", np.sum(inches > 0.5))\n",
        "print(\"Rainy days with < 0.1 inches :\", np.sum((inches > 0) &\n",
        "(inches < 0.2)))"
      ],
      "execution_count": 310,
      "outputs": [
        {
          "output_type": "error",
          "ename": "NameError",
          "evalue": "ignored",
          "traceback": [
            "\u001b[0;31m---------------------------------------------------------------------------\u001b[0m",
            "\u001b[0;31mNameError\u001b[0m                                 Traceback (most recent call last)",
            "\u001b[0;32m<ipython-input-310-0ca6008d431d>\u001b[0m in \u001b[0;36m<module>\u001b[0;34m()\u001b[0m\n\u001b[0;32m----> 1\u001b[0;31m \u001b[0mprint\u001b[0m\u001b[0;34m(\u001b[0m\u001b[0;34m\"Number days without rain: \"\u001b[0m\u001b[0;34m,\u001b[0m \u001b[0mnp\u001b[0m\u001b[0;34m.\u001b[0m\u001b[0msum\u001b[0m\u001b[0;34m(\u001b[0m\u001b[0minches\u001b[0m \u001b[0;34m==\u001b[0m \u001b[0;36m0\u001b[0m\u001b[0;34m)\u001b[0m\u001b[0;34m)\u001b[0m\u001b[0;34m\u001b[0m\u001b[0;34m\u001b[0m\u001b[0m\n\u001b[0m\u001b[1;32m      2\u001b[0m \u001b[0mprint\u001b[0m\u001b[0;34m(\u001b[0m\u001b[0;34m\"Number days with rain: \"\u001b[0m\u001b[0;34m,\u001b[0m \u001b[0mnp\u001b[0m\u001b[0;34m.\u001b[0m\u001b[0msum\u001b[0m\u001b[0;34m(\u001b[0m\u001b[0minches\u001b[0m \u001b[0;34m!=\u001b[0m \u001b[0;36m0\u001b[0m\u001b[0;34m)\u001b[0m\u001b[0;34m)\u001b[0m\u001b[0;34m\u001b[0m\u001b[0;34m\u001b[0m\u001b[0m\n\u001b[1;32m      3\u001b[0m \u001b[0mprint\u001b[0m\u001b[0;34m(\u001b[0m\u001b[0;34m\"Days with more than 0.5 inches:\"\u001b[0m\u001b[0;34m,\u001b[0m \u001b[0mnp\u001b[0m\u001b[0;34m.\u001b[0m\u001b[0msum\u001b[0m\u001b[0;34m(\u001b[0m\u001b[0minches\u001b[0m \u001b[0;34m>\u001b[0m \u001b[0;36m0.5\u001b[0m\u001b[0;34m)\u001b[0m\u001b[0;34m)\u001b[0m\u001b[0;34m\u001b[0m\u001b[0;34m\u001b[0m\u001b[0m\n\u001b[1;32m      4\u001b[0m print(\"Rainy days with < 0.1 inches :\", np.sum((inches > 0) &\n\u001b[1;32m      5\u001b[0m (inches < 0.2)))\n",
            "\u001b[0;31mNameError\u001b[0m: name 'inches' is not defined"
          ]
        }
      ]
    },
    {
      "cell_type": "code",
      "metadata": {
        "colab": {
          "base_uri": "https://localhost:8080/"
        },
        "id": "yNSD0EpziFPi",
        "outputId": "cac0ee42-d00d-4457-f3e7-843bbd40a8cd"
      },
      "source": [
        "#Boolean Arrays as Masks\n",
        "x"
      ],
      "execution_count": 311,
      "outputs": [
        {
          "output_type": "execute_result",
          "data": {
            "text/plain": [
              "array([[5, 0, 3, 3],\n",
              "       [7, 9, 3, 5],\n",
              "       [2, 4, 7, 6]])"
            ]
          },
          "metadata": {},
          "execution_count": 311
        }
      ]
    },
    {
      "cell_type": "code",
      "metadata": {
        "colab": {
          "base_uri": "https://localhost:8080/"
        },
        "id": "IDFHBLHpi_rA",
        "outputId": "32209882-94b6-412f-81bf-9ad8f75c0207"
      },
      "source": [
        "x < 5"
      ],
      "execution_count": 312,
      "outputs": [
        {
          "output_type": "execute_result",
          "data": {
            "text/plain": [
              "array([[False,  True,  True,  True],\n",
              "       [False, False,  True, False],\n",
              "       [ True,  True, False, False]])"
            ]
          },
          "metadata": {},
          "execution_count": 312
        }
      ]
    },
    {
      "cell_type": "code",
      "metadata": {
        "colab": {
          "base_uri": "https://localhost:8080/"
        },
        "id": "ZSZd2873jLr6",
        "outputId": "f7f5d38f-52f8-4250-db95-cc724ee92a01"
      },
      "source": [
        "x[x < 5]"
      ],
      "execution_count": 313,
      "outputs": [
        {
          "output_type": "execute_result",
          "data": {
            "text/plain": [
              "array([0, 3, 3, 3, 2, 4])"
            ]
          },
          "metadata": {},
          "execution_count": 313
        }
      ]
    },
    {
      "cell_type": "code",
      "metadata": {
        "colab": {
          "base_uri": "https://localhost:8080/",
          "height": 231
        },
        "id": "eQy-V3IojR7S",
        "outputId": "5b635204-cf68-4a07-8477-1691fb55b59e"
      },
      "source": [
        "# construct a mask of all rainy days\n",
        "rainy = (inches > 0)\n",
        "\n",
        "# construct a mask of all summer days (June 21st is the 172nd day)\n",
        "summer = (np.arange(365) - 172 < 90) & (np.arange(365) - 172 > 0)\n",
        "\n",
        "print(\"Median precip on rainy days in 2014 (inches): \",np.median(inches[rainy]))\n",
        "print(\"Median precip on summer days in 2014 (inches): \",np.median(inches[summer]))\n",
        "print(\"Maximum precip on summer days in 2014 (inches): \",np.max(inches[summer]))\n",
        "print(\"Median precip on non-summer rainy days (inches):\",np.median(inches[rainy & ~summer]))"
      ],
      "execution_count": 314,
      "outputs": [
        {
          "output_type": "error",
          "ename": "NameError",
          "evalue": "ignored",
          "traceback": [
            "\u001b[0;31m---------------------------------------------------------------------------\u001b[0m",
            "\u001b[0;31mNameError\u001b[0m                                 Traceback (most recent call last)",
            "\u001b[0;32m<ipython-input-314-470cac334920>\u001b[0m in \u001b[0;36m<module>\u001b[0;34m()\u001b[0m\n\u001b[1;32m      1\u001b[0m \u001b[0;31m# construct a mask of all rainy days\u001b[0m\u001b[0;34m\u001b[0m\u001b[0;34m\u001b[0m\u001b[0;34m\u001b[0m\u001b[0m\n\u001b[0;32m----> 2\u001b[0;31m \u001b[0mrainy\u001b[0m \u001b[0;34m=\u001b[0m \u001b[0;34m(\u001b[0m\u001b[0minches\u001b[0m \u001b[0;34m>\u001b[0m \u001b[0;36m0\u001b[0m\u001b[0;34m)\u001b[0m\u001b[0;34m\u001b[0m\u001b[0;34m\u001b[0m\u001b[0m\n\u001b[0m\u001b[1;32m      3\u001b[0m \u001b[0;34m\u001b[0m\u001b[0m\n\u001b[1;32m      4\u001b[0m \u001b[0;31m# construct a mask of all summer days (June 21st is the 172nd day)\u001b[0m\u001b[0;34m\u001b[0m\u001b[0;34m\u001b[0m\u001b[0;34m\u001b[0m\u001b[0m\n\u001b[1;32m      5\u001b[0m \u001b[0msummer\u001b[0m \u001b[0;34m=\u001b[0m \u001b[0;34m(\u001b[0m\u001b[0mnp\u001b[0m\u001b[0;34m.\u001b[0m\u001b[0marange\u001b[0m\u001b[0;34m(\u001b[0m\u001b[0;36m365\u001b[0m\u001b[0;34m)\u001b[0m \u001b[0;34m-\u001b[0m \u001b[0;36m172\u001b[0m \u001b[0;34m<\u001b[0m \u001b[0;36m90\u001b[0m\u001b[0;34m)\u001b[0m \u001b[0;34m&\u001b[0m \u001b[0;34m(\u001b[0m\u001b[0mnp\u001b[0m\u001b[0;34m.\u001b[0m\u001b[0marange\u001b[0m\u001b[0;34m(\u001b[0m\u001b[0;36m365\u001b[0m\u001b[0;34m)\u001b[0m \u001b[0;34m-\u001b[0m \u001b[0;36m172\u001b[0m \u001b[0;34m>\u001b[0m \u001b[0;36m0\u001b[0m\u001b[0;34m)\u001b[0m\u001b[0;34m\u001b[0m\u001b[0;34m\u001b[0m\u001b[0m\n",
            "\u001b[0;31mNameError\u001b[0m: name 'inches' is not defined"
          ]
        }
      ]
    },
    {
      "cell_type": "code",
      "metadata": {
        "colab": {
          "base_uri": "https://localhost:8080/"
        },
        "id": "J3FaOaJWj2Bq",
        "outputId": "294f91c3-c1a8-43dc-9a96-f9806881c039"
      },
      "source": [
        "#Using the Keywords and/or Versus the Operators &/\n",
        "bool(42), bool(0)"
      ],
      "execution_count": 315,
      "outputs": [
        {
          "output_type": "execute_result",
          "data": {
            "text/plain": [
              "(True, False)"
            ]
          },
          "metadata": {},
          "execution_count": 315
        }
      ]
    },
    {
      "cell_type": "code",
      "metadata": {
        "colab": {
          "base_uri": "https://localhost:8080/"
        },
        "id": "s2VX6qiekVcb",
        "outputId": "f2bda08a-9c5c-41e1-ddcb-a3cb92c05b6d"
      },
      "source": [
        "bool(42 and 0)"
      ],
      "execution_count": 316,
      "outputs": [
        {
          "output_type": "execute_result",
          "data": {
            "text/plain": [
              "False"
            ]
          },
          "metadata": {},
          "execution_count": 316
        }
      ]
    },
    {
      "cell_type": "code",
      "metadata": {
        "colab": {
          "base_uri": "https://localhost:8080/"
        },
        "id": "_h2OqChakYWK",
        "outputId": "fa7e3f1a-ff77-486d-db00-d3a83adf3171"
      },
      "source": [
        "bool(42 or 0)"
      ],
      "execution_count": 317,
      "outputs": [
        {
          "output_type": "execute_result",
          "data": {
            "text/plain": [
              "True"
            ]
          },
          "metadata": {},
          "execution_count": 317
        }
      ]
    },
    {
      "cell_type": "code",
      "metadata": {
        "colab": {
          "base_uri": "https://localhost:8080/",
          "height": 35
        },
        "id": "PH0fX_2dka96",
        "outputId": "4d17395a-2b49-43e1-85de-7cb4204ba111"
      },
      "source": [
        "bin(42)\n"
      ],
      "execution_count": 318,
      "outputs": [
        {
          "output_type": "execute_result",
          "data": {
            "application/vnd.google.colaboratory.intrinsic+json": {
              "type": "string"
            },
            "text/plain": [
              "'0b101010'"
            ]
          },
          "metadata": {},
          "execution_count": 318
        }
      ]
    },
    {
      "cell_type": "code",
      "metadata": {
        "colab": {
          "base_uri": "https://localhost:8080/",
          "height": 35
        },
        "id": "mP3kdLyekd-a",
        "outputId": "1d9c4a39-166f-41ba-a178-b3b3dd4495fc"
      },
      "source": [
        "bin(59)"
      ],
      "execution_count": 319,
      "outputs": [
        {
          "output_type": "execute_result",
          "data": {
            "application/vnd.google.colaboratory.intrinsic+json": {
              "type": "string"
            },
            "text/plain": [
              "'0b111011'"
            ]
          },
          "metadata": {},
          "execution_count": 319
        }
      ]
    },
    {
      "cell_type": "code",
      "metadata": {
        "colab": {
          "base_uri": "https://localhost:8080/",
          "height": 35
        },
        "id": "-k2i1_gZkg1L",
        "outputId": "a4aa1496-ef88-4e42-91f0-e4817d43bcab"
      },
      "source": [
        "bin(42 & 59)"
      ],
      "execution_count": 320,
      "outputs": [
        {
          "output_type": "execute_result",
          "data": {
            "application/vnd.google.colaboratory.intrinsic+json": {
              "type": "string"
            },
            "text/plain": [
              "'0b101010'"
            ]
          },
          "metadata": {},
          "execution_count": 320
        }
      ]
    },
    {
      "cell_type": "code",
      "metadata": {
        "colab": {
          "base_uri": "https://localhost:8080/",
          "height": 35
        },
        "id": "fiC368rjkkCL",
        "outputId": "56ae7088-5129-4903-e23f-ee42864e75de"
      },
      "source": [
        "bin(42 | 59)"
      ],
      "execution_count": 321,
      "outputs": [
        {
          "output_type": "execute_result",
          "data": {
            "application/vnd.google.colaboratory.intrinsic+json": {
              "type": "string"
            },
            "text/plain": [
              "'0b111011'"
            ]
          },
          "metadata": {},
          "execution_count": 321
        }
      ]
    },
    {
      "cell_type": "code",
      "metadata": {
        "colab": {
          "base_uri": "https://localhost:8080/"
        },
        "id": "zVl9CLiDkplp",
        "outputId": "eb7ef59a-eb9c-43f2-b2c2-8537a4dbf1cb"
      },
      "source": [
        "A = np.array([1, 0, 1, 0, 1, 0], dtype=bool)\n",
        "B = np.array([1, 1, 1, 0, 1, 1], dtype=bool)\n",
        "A | B"
      ],
      "execution_count": 322,
      "outputs": [
        {
          "output_type": "execute_result",
          "data": {
            "text/plain": [
              "array([ True,  True,  True, False,  True,  True])"
            ]
          },
          "metadata": {},
          "execution_count": 322
        }
      ]
    },
    {
      "cell_type": "code",
      "metadata": {
        "colab": {
          "base_uri": "https://localhost:8080/",
          "height": 163
        },
        "id": "lvn8sezAksSC",
        "outputId": "328860cc-9046-4467-d39d-42c8f0ae0a2a"
      },
      "source": [
        "A or B"
      ],
      "execution_count": 323,
      "outputs": [
        {
          "output_type": "error",
          "ename": "ValueError",
          "evalue": "ignored",
          "traceback": [
            "\u001b[0;31m---------------------------------------------------------------------------\u001b[0m",
            "\u001b[0;31mValueError\u001b[0m                                Traceback (most recent call last)",
            "\u001b[0;32m<ipython-input-323-ea2c97d9d9ee>\u001b[0m in \u001b[0;36m<module>\u001b[0;34m()\u001b[0m\n\u001b[0;32m----> 1\u001b[0;31m \u001b[0mA\u001b[0m \u001b[0;32mor\u001b[0m \u001b[0mB\u001b[0m\u001b[0;34m\u001b[0m\u001b[0;34m\u001b[0m\u001b[0m\n\u001b[0m",
            "\u001b[0;31mValueError\u001b[0m: The truth value of an array with more than one element is ambiguous. Use a.any() or a.all()"
          ]
        }
      ]
    },
    {
      "cell_type": "code",
      "metadata": {
        "colab": {
          "base_uri": "https://localhost:8080/"
        },
        "id": "OeikmV9Mk0bK",
        "outputId": "f5964a57-1a8d-4c21-9462-c4b96f0ad78b"
      },
      "source": [
        "x = np.arange(10)\n",
        "(x > 4) & (x < 8)"
      ],
      "execution_count": 324,
      "outputs": [
        {
          "output_type": "execute_result",
          "data": {
            "text/plain": [
              "array([False, False, False, False, False,  True,  True,  True, False,\n",
              "       False])"
            ]
          },
          "metadata": {},
          "execution_count": 324
        }
      ]
    },
    {
      "cell_type": "code",
      "metadata": {
        "colab": {
          "base_uri": "https://localhost:8080/",
          "height": 163
        },
        "id": "9s7-4bSuk281",
        "outputId": "a6dd17f6-d572-43ad-9f07-cf9a6b4193fa"
      },
      "source": [
        "(x > 4) and (x < 8)"
      ],
      "execution_count": 325,
      "outputs": [
        {
          "output_type": "error",
          "ename": "ValueError",
          "evalue": "ignored",
          "traceback": [
            "\u001b[0;31m---------------------------------------------------------------------------\u001b[0m",
            "\u001b[0;31mValueError\u001b[0m                                Traceback (most recent call last)",
            "\u001b[0;32m<ipython-input-325-eecf1fdd5fb4>\u001b[0m in \u001b[0;36m<module>\u001b[0;34m()\u001b[0m\n\u001b[0;32m----> 1\u001b[0;31m \u001b[0;34m(\u001b[0m\u001b[0mx\u001b[0m \u001b[0;34m>\u001b[0m \u001b[0;36m4\u001b[0m\u001b[0;34m)\u001b[0m \u001b[0;32mand\u001b[0m \u001b[0;34m(\u001b[0m\u001b[0mx\u001b[0m \u001b[0;34m<\u001b[0m \u001b[0;36m8\u001b[0m\u001b[0;34m)\u001b[0m\u001b[0;34m\u001b[0m\u001b[0;34m\u001b[0m\u001b[0m\n\u001b[0m",
            "\u001b[0;31mValueError\u001b[0m: The truth value of an array with more than one element is ambiguous. Use a.any() or a.all()"
          ]
        }
      ]
    },
    {
      "cell_type": "code",
      "metadata": {
        "colab": {
          "base_uri": "https://localhost:8080/"
        },
        "id": "9Ne-Rv2qk-E7",
        "outputId": "c0f1a49a-54c4-4925-c32e-47a4187b1dc0"
      },
      "source": [
        "#Fancy Indexing\n",
        "import numpy as np\n",
        "rand = np.random.RandomState(42)\n",
        "x = rand.randint(100, size=10)\n",
        "print(x)\n"
      ],
      "execution_count": 326,
      "outputs": [
        {
          "output_type": "stream",
          "name": "stdout",
          "text": [
            "[51 92 14 71 60 20 82 86 74 74]\n"
          ]
        }
      ]
    },
    {
      "cell_type": "code",
      "metadata": {
        "colab": {
          "base_uri": "https://localhost:8080/"
        },
        "id": "989Do3ROlDv6",
        "outputId": "ba0ecc36-c45e-4a72-f978-02cb693b1f25"
      },
      "source": [
        "[x[3], x[7], x[2]]\n"
      ],
      "execution_count": 327,
      "outputs": [
        {
          "output_type": "execute_result",
          "data": {
            "text/plain": [
              "[71, 86, 14]"
            ]
          },
          "metadata": {},
          "execution_count": 327
        }
      ]
    },
    {
      "cell_type": "code",
      "metadata": {
        "colab": {
          "base_uri": "https://localhost:8080/"
        },
        "id": "FIlsOEvUlGwi",
        "outputId": "4ee1aff4-48e8-4dcf-aabd-1f3310cec4e0"
      },
      "source": [
        "ind = [3, 7, 4]\n",
        "x[ind]"
      ],
      "execution_count": 328,
      "outputs": [
        {
          "output_type": "execute_result",
          "data": {
            "text/plain": [
              "array([71, 86, 60])"
            ]
          },
          "metadata": {},
          "execution_count": 328
        }
      ]
    },
    {
      "cell_type": "code",
      "metadata": {
        "colab": {
          "base_uri": "https://localhost:8080/"
        },
        "id": "_im72EEElJ9K",
        "outputId": "11817721-672e-4327-817c-f85757d6d38d"
      },
      "source": [
        "ind = np.array([[3, 7],[4, 5]])\n",
        "x[ind]"
      ],
      "execution_count": 329,
      "outputs": [
        {
          "output_type": "execute_result",
          "data": {
            "text/plain": [
              "array([[71, 86],\n",
              "       [60, 20]])"
            ]
          },
          "metadata": {},
          "execution_count": 329
        }
      ]
    },
    {
      "cell_type": "code",
      "metadata": {
        "colab": {
          "base_uri": "https://localhost:8080/"
        },
        "id": "kdEAD2n0lS-6",
        "outputId": "6fe2bd4a-1635-4612-f237-77d40a5f04e6"
      },
      "source": [
        "X = np.arange(12).reshape((3, 4))\n",
        "X"
      ],
      "execution_count": 330,
      "outputs": [
        {
          "output_type": "execute_result",
          "data": {
            "text/plain": [
              "array([[ 0,  1,  2,  3],\n",
              "       [ 4,  5,  6,  7],\n",
              "       [ 8,  9, 10, 11]])"
            ]
          },
          "metadata": {},
          "execution_count": 330
        }
      ]
    },
    {
      "cell_type": "code",
      "metadata": {
        "colab": {
          "base_uri": "https://localhost:8080/"
        },
        "id": "9DzOjwPDlWRL",
        "outputId": "6663d442-c55d-44e4-9133-eed0796c0c40"
      },
      "source": [
        "row = np.array([0, 1, 2])\n",
        "col = np.array([2, 1, 3])\n",
        "X[row, col]"
      ],
      "execution_count": 331,
      "outputs": [
        {
          "output_type": "execute_result",
          "data": {
            "text/plain": [
              "array([ 2,  5, 11])"
            ]
          },
          "metadata": {},
          "execution_count": 331
        }
      ]
    },
    {
      "cell_type": "code",
      "metadata": {
        "colab": {
          "base_uri": "https://localhost:8080/"
        },
        "id": "vimGJ89glcB7",
        "outputId": "a36dd967-e4d0-40ad-e78a-651a91e20dc7"
      },
      "source": [
        "X[row[:, np.newaxis], col]"
      ],
      "execution_count": 332,
      "outputs": [
        {
          "output_type": "execute_result",
          "data": {
            "text/plain": [
              "array([[ 2,  1,  3],\n",
              "       [ 6,  5,  7],\n",
              "       [10,  9, 11]])"
            ]
          },
          "metadata": {},
          "execution_count": 332
        }
      ]
    },
    {
      "cell_type": "code",
      "metadata": {
        "colab": {
          "base_uri": "https://localhost:8080/"
        },
        "id": "ijSZoxvRlh9z",
        "outputId": "331d5c3f-c1ed-4027-935d-fe59dd4b7490"
      },
      "source": [
        "row[:, np.newaxis] * col"
      ],
      "execution_count": 333,
      "outputs": [
        {
          "output_type": "execute_result",
          "data": {
            "text/plain": [
              "array([[0, 0, 0],\n",
              "       [2, 1, 3],\n",
              "       [4, 2, 6]])"
            ]
          },
          "metadata": {},
          "execution_count": 333
        }
      ]
    },
    {
      "cell_type": "code",
      "metadata": {
        "colab": {
          "base_uri": "https://localhost:8080/"
        },
        "id": "Xz1vbz7LlkwT",
        "outputId": "19078492-b906-440f-c1c0-ea8e3bb708f5"
      },
      "source": [
        "#Combined Indexing\n",
        "print(X)"
      ],
      "execution_count": 334,
      "outputs": [
        {
          "output_type": "stream",
          "name": "stdout",
          "text": [
            "[[ 0  1  2  3]\n",
            " [ 4  5  6  7]\n",
            " [ 8  9 10 11]]\n"
          ]
        }
      ]
    },
    {
      "cell_type": "code",
      "metadata": {
        "colab": {
          "base_uri": "https://localhost:8080/"
        },
        "id": "hnn9JZc3lsyT",
        "outputId": "45a8dbeb-d1c7-4437-8971-6d567603b8a4"
      },
      "source": [
        "X[2, [2, 0, 1]]"
      ],
      "execution_count": 335,
      "outputs": [
        {
          "output_type": "execute_result",
          "data": {
            "text/plain": [
              "array([10,  8,  9])"
            ]
          },
          "metadata": {},
          "execution_count": 335
        }
      ]
    },
    {
      "cell_type": "code",
      "metadata": {
        "colab": {
          "base_uri": "https://localhost:8080/"
        },
        "id": "Ca1C_mNnlvhC",
        "outputId": "67b9914b-07c9-4172-c90d-f916c17ca0f9"
      },
      "source": [
        "X[1:, [2, 0, 1]]"
      ],
      "execution_count": 336,
      "outputs": [
        {
          "output_type": "execute_result",
          "data": {
            "text/plain": [
              "array([[ 6,  4,  5],\n",
              "       [10,  8,  9]])"
            ]
          },
          "metadata": {},
          "execution_count": 336
        }
      ]
    },
    {
      "cell_type": "code",
      "metadata": {
        "colab": {
          "base_uri": "https://localhost:8080/"
        },
        "id": "NWnQFWZblytU",
        "outputId": "c334d676-a8ee-4297-b554-a02b74edae45"
      },
      "source": [
        "mask = np.array([1, 0, 1, 0], dtype=bool)\n",
        "X[row[:, np.newaxis], mask]"
      ],
      "execution_count": 337,
      "outputs": [
        {
          "output_type": "execute_result",
          "data": {
            "text/plain": [
              "array([[ 0,  2],\n",
              "       [ 4,  6],\n",
              "       [ 8, 10]])"
            ]
          },
          "metadata": {},
          "execution_count": 337
        }
      ]
    },
    {
      "cell_type": "code",
      "metadata": {
        "colab": {
          "base_uri": "https://localhost:8080/"
        },
        "id": "6p5Q8WFQl2ZK",
        "outputId": "e4d27f1c-0e79-4f86-aa3f-b9cce69b3e9c"
      },
      "source": [
        "#Selecting Random Points\n",
        "mean = [0, 0]\n",
        "cov = [[1, 2],\n",
        "[2, 5]]\n",
        "X = rand.multivariate_normal(mean, cov, 100)\n",
        "X.shape"
      ],
      "execution_count": 338,
      "outputs": [
        {
          "output_type": "execute_result",
          "data": {
            "text/plain": [
              "(100, 2)"
            ]
          },
          "metadata": {},
          "execution_count": 338
        }
      ]
    },
    {
      "cell_type": "code",
      "metadata": {
        "colab": {
          "base_uri": "https://localhost:8080/",
          "height": 268
        },
        "id": "d6kU7gi8mCMV",
        "outputId": "4ba2b6b7-a672-4758-c810-e7c10a7f3968"
      },
      "source": [
        "%matplotlib inline\n",
        "import matplotlib.pyplot as plt\n",
        "import seaborn; seaborn.set() # for plot styling\n",
        "plt.scatter(X[:, 0], X[:, 1]);"
      ],
      "execution_count": 339,
      "outputs": [
        {
          "output_type": "display_data",
          "data": {
            "image/png": "[encoded data removed]",
            "text/plain": [
              "<Figure size 432x288 with 1 Axes>"
            ]
          },
          "metadata": {}
        }
      ]
    },
    {
      "cell_type": "code",
      "metadata": {
        "colab": {
          "base_uri": "https://localhost:8080/"
        },
        "id": "Vgb7qVPnmIEL",
        "outputId": "67820bd6-4c09-4430-9629-a802c0f6ecab"
      },
      "source": [
        "indices = np.random.choice(X.shape[0], 20, replace=False)\n",
        "indices"
      ],
      "execution_count": 340,
      "outputs": [
        {
          "output_type": "execute_result",
          "data": {
            "text/plain": [
              "array([22, 34, 30, 40, 27, 12, 65,  5, 54, 74, 78, 96, 70, 18, 72, 89, 29,\n",
              "       45, 36, 88])"
            ]
          },
          "metadata": {},
          "execution_count": 340
        }
      ]
    },
    {
      "cell_type": "code",
      "metadata": {
        "colab": {
          "base_uri": "https://localhost:8080/"
        },
        "id": "DpQRAkGNmNB0",
        "outputId": "51edf4b1-3721-4ad1-e681-cdc6e3111e64"
      },
      "source": [
        "selection = X[indices] # fancy indexing here\n",
        "selection.shape"
      ],
      "execution_count": 341,
      "outputs": [
        {
          "output_type": "execute_result",
          "data": {
            "text/plain": [
              "(20, 2)"
            ]
          },
          "metadata": {},
          "execution_count": 341
        }
      ]
    },
    {
      "cell_type": "code",
      "metadata": {
        "colab": {
          "base_uri": "https://localhost:8080/",
          "height": 268
        },
        "id": "3pZzWlHAmRRU",
        "outputId": "96c5a1ee-5667-4c22-f9d8-51595c665702"
      },
      "source": [
        "plt.scatter(X[:, 0], X[:, 1], alpha=0.3)\n",
        "plt.scatter(selection[:, 0], selection[:, 1],facecolor='none', s=200);"
      ],
      "execution_count": 342,
      "outputs": [
        {
          "output_type": "display_data",
          "data": {
            "image/png": "[encoded data removed]",
            "text/plain": [
              "<Figure size 432x288 with 1 Axes>"
            ]
          },
          "metadata": {}
        }
      ]
    },
    {
      "cell_type": "code",
      "metadata": {
        "colab": {
          "base_uri": "https://localhost:8080/"
        },
        "id": "Db57Io2PmZDd",
        "outputId": "e5794434-611b-4885-c039-24fc14b4ee3b"
      },
      "source": [
        "#Modifying Values with Fancy Indexing\n",
        "x = np.arange(10)\n",
        "i = np.array([2, 1, 8, 4])\n",
        "x[i] = 99\n",
        "print(x)"
      ],
      "execution_count": 343,
      "outputs": [
        {
          "output_type": "stream",
          "name": "stdout",
          "text": [
            "[ 0 99 99  3 99  5  6  7 99  9]\n"
          ]
        }
      ]
    },
    {
      "cell_type": "code",
      "metadata": {
        "colab": {
          "base_uri": "https://localhost:8080/"
        },
        "id": "XmaooEbxmiy8",
        "outputId": "50df32d8-a4ba-4a42-a6be-b7ec3038e320"
      },
      "source": [
        "x[i] -= 10\n",
        "print(x)"
      ],
      "execution_count": 344,
      "outputs": [
        {
          "output_type": "stream",
          "name": "stdout",
          "text": [
            "[ 0 89 89  3 89  5  6  7 89  9]\n"
          ]
        }
      ]
    },
    {
      "cell_type": "code",
      "metadata": {
        "colab": {
          "base_uri": "https://localhost:8080/"
        },
        "id": "YUb3axfjmmkR",
        "outputId": "2357bc5e-beb8-4ec3-eb0a-bac0b25c2b24"
      },
      "source": [
        "x = np.zeros(10)\n",
        "x[[0, 0]] = [4, 6]\n",
        "print(x)"
      ],
      "execution_count": 345,
      "outputs": [
        {
          "output_type": "stream",
          "name": "stdout",
          "text": [
            "[6. 0. 0. 0. 0. 0. 0. 0. 0. 0.]\n"
          ]
        }
      ]
    },
    {
      "cell_type": "code",
      "metadata": {
        "colab": {
          "base_uri": "https://localhost:8080/"
        },
        "id": "U5qaKv_dmq_U",
        "outputId": "be660d0f-a3ce-479b-f2b8-b1b5fa10073e"
      },
      "source": [
        "i = [2, 3, 3, 4, 4, 4]\n",
        "x[i] += 1\n",
        "x"
      ],
      "execution_count": 346,
      "outputs": [
        {
          "output_type": "execute_result",
          "data": {
            "text/plain": [
              "array([6., 0., 1., 1., 1., 0., 0., 0., 0., 0.])"
            ]
          },
          "metadata": {},
          "execution_count": 346
        }
      ]
    },
    {
      "cell_type": "code",
      "metadata": {
        "colab": {
          "base_uri": "https://localhost:8080/"
        },
        "id": "JQ-IN5DEmvKW",
        "outputId": "348dab30-2efc-4493-bf9c-ff8605a56455"
      },
      "source": [
        "x = np.zeros(10)\n",
        "np.add.at(x, i, 1)\n",
        "print(x)"
      ],
      "execution_count": 347,
      "outputs": [
        {
          "output_type": "stream",
          "name": "stdout",
          "text": [
            "[0. 0. 1. 2. 3. 0. 0. 0. 0. 0.]\n"
          ]
        }
      ]
    },
    {
      "cell_type": "code",
      "metadata": {
        "id": "Nx7b0elJmvi8"
      },
      "source": [
        "np.random.seed(42)\n",
        "x = np.random.randn(100)\n",
        "\n",
        "# compute a histogram by hand\n",
        "bins = np.linspace(-5, 5, 20)\n",
        "counts = np.zeros_like(bins)\n",
        "\n",
        "# find the appropriate bin for each x\n",
        "i = np.searchsorted(bins, x)\n",
        "\n",
        "# add 1 to each of these bins\n",
        "np.add.at(counts, i, 1)"
      ],
      "execution_count": 348,
      "outputs": []
    },
    {
      "cell_type": "code",
      "metadata": {
        "colab": {
          "base_uri": "https://localhost:8080/",
          "height": 322
        },
        "id": "SfyxJ-zUmvn0",
        "outputId": "b404e02c-d824-4fe3-fcf3-57b9ada907ef"
      },
      "source": [
        "# plot the results\n",
        "plt.plot(bins, counts, linestyle='steps');"
      ],
      "execution_count": 349,
      "outputs": [
        {
          "output_type": "stream",
          "name": "stderr",
          "text": [
            "/usr/local/lib/python3.7/dist-packages/ipykernel_launcher.py:2: MatplotlibDeprecationWarning: Passing the drawstyle with the linestyle as a single string is deprecated since Matplotlib 3.1 and support will be removed in 3.3; please pass the drawstyle separately using the drawstyle keyword argument to Line2D or set_drawstyle() method (or ds/set_ds()).\n",
            "  \n"
          ]
        },
        {
          "output_type": "display_data",
          "data": {
            "image/png": "[encoded data removed]",
            "text/plain": [
              "<Figure size 432x288 with 1 Axes>"
            ]
          },
          "metadata": {}
        }
      ]
    },
    {
      "cell_type": "code",
      "metadata": {
        "colab": {
          "base_uri": "https://localhost:8080/"
        },
        "id": "D9ItuD8imvrb",
        "outputId": "04ca387a-84fc-49ba-d3b6-17db64e89d5d"
      },
      "source": [
        "print(\"NumPy routine:\")\n",
        "%timeit counts, edges = np.histogram(x, bins)\n",
        "\n",
        "print(\"Custom routine:\")\n",
        "%timeit np.add.at(counts, np.searchsorted(bins, x), 1)"
      ],
      "execution_count": 350,
      "outputs": [
        {
          "output_type": "stream",
          "name": "stdout",
          "text": [
            "NumPy routine:\n",
            "The slowest run took 7.45 times longer than the fastest. This could mean that an intermediate result is being cached.\n",
            "10000 loops, best of 5: 38.7 µs per loop\n",
            "Custom routine:\n",
            "The slowest run took 50.21 times longer than the fastest. This could mean that an intermediate result is being cached.\n",
            "100000 loops, best of 5: 15.7 µs per loop\n"
          ]
        }
      ]
    },
    {
      "cell_type": "code",
      "metadata": {
        "colab": {
          "base_uri": "https://localhost:8080/"
        },
        "id": "bvnSAU8Qmvxf",
        "outputId": "e3096b5f-df0b-442b-aa01-8c236f2f37bf"
      },
      "source": [
        "x = np.random.randn(1000000)\n",
        "print(\"NumPy routine:\")\n",
        "%timeit counts, edges = np.histogram(x, bins)\n",
        "\n",
        "print(\"Custom routine:\")\n",
        "%timeit np.add.at(counts, np.searchsorted(bins, x), 1)"
      ],
      "execution_count": 352,
      "outputs": [
        {
          "output_type": "stream",
          "name": "stdout",
          "text": [
            "NumPy routine:\n",
            "10 loops, best of 5: 75.7 ms per loop\n",
            "Custom routine:\n",
            "10 loops, best of 5: 119 ms per loop\n"
          ]
        }
      ]
    },
    {
      "cell_type": "code",
      "metadata": {
        "id": "-Rgujy1Rmv1A"
      },
      "source": [
        "#Sorting Arrays\n",
        "import numpy as np\n",
        "def selection_sort(x):\n",
        "     for i in range(len(x)):\n",
        "         swap = i + np.argmin(x[i:])\n",
        "         (x[i], x[swap]) = (x[swap], x[i])\n",
        "     return x "
      ],
      "execution_count": 354,
      "outputs": []
    },
    {
      "cell_type": "code",
      "metadata": {
        "colab": {
          "base_uri": "https://localhost:8080/"
        },
        "id": "q830cX9UogkV",
        "outputId": "0c9e6444-0214-42d6-b3cb-ae0c011bd859"
      },
      "source": [
        "x = np.array([2, 1, 4, 3, 5])\n",
        "selection_sort(x)"
      ],
      "execution_count": 355,
      "outputs": [
        {
          "output_type": "execute_result",
          "data": {
            "text/plain": [
              "array([1, 2, 3, 4, 5])"
            ]
          },
          "metadata": {},
          "execution_count": 355
        }
      ]
    },
    {
      "cell_type": "code",
      "metadata": {
        "id": "oJGpi-8pogz5"
      },
      "source": [
        "def bogosort(x):\n",
        "    while np.any(x[:-1] > x[1:]):\n",
        "       np.random.shuffle(x)\n",
        "    return x"
      ],
      "execution_count": 356,
      "outputs": []
    },
    {
      "cell_type": "code",
      "metadata": {
        "colab": {
          "base_uri": "https://localhost:8080/"
        },
        "id": "5_2Kb2F0og3B",
        "outputId": "acb3337c-87e2-421a-e3da-982b726451c0"
      },
      "source": [
        "x = np.array([2, 1, 4, 3, 5])\n",
        "bogosort(x)"
      ],
      "execution_count": 357,
      "outputs": [
        {
          "output_type": "execute_result",
          "data": {
            "text/plain": [
              "array([1, 2, 3, 4, 5])"
            ]
          },
          "metadata": {},
          "execution_count": 357
        }
      ]
    },
    {
      "cell_type": "code",
      "metadata": {
        "colab": {
          "base_uri": "https://localhost:8080/"
        },
        "id": "I2ZTDQVmo1P1",
        "outputId": "a4e0478a-a240-432d-f341-44584e3a0ba9"
      },
      "source": [
        "#Fast Sorting in NumPy: np.sort and np.argsort\n",
        "x = np.array([2, 1, 4, 3, 5])\n",
        "np.sort(x)"
      ],
      "execution_count": 358,
      "outputs": [
        {
          "output_type": "execute_result",
          "data": {
            "text/plain": [
              "array([1, 2, 3, 4, 5])"
            ]
          },
          "metadata": {},
          "execution_count": 358
        }
      ]
    },
    {
      "cell_type": "code",
      "metadata": {
        "colab": {
          "base_uri": "https://localhost:8080/"
        },
        "id": "abB0ltbko1Tg",
        "outputId": "a7323676-35fa-4a49-e97b-944ff685049b"
      },
      "source": [
        "x.sort()\n",
        "print(x)"
      ],
      "execution_count": 359,
      "outputs": [
        {
          "output_type": "stream",
          "name": "stdout",
          "text": [
            "[1 2 3 4 5]\n"
          ]
        }
      ]
    },
    {
      "cell_type": "code",
      "metadata": {
        "colab": {
          "base_uri": "https://localhost:8080/"
        },
        "id": "tjcShk3qo1XW",
        "outputId": "0eaccf2e-85e7-42ef-9ef2-674b3e1dfbc3"
      },
      "source": [
        "x = np.array([2, 1, 4, 3, 5])\n",
        "i = np.argsort(x)\n",
        "print(i)"
      ],
      "execution_count": 360,
      "outputs": [
        {
          "output_type": "stream",
          "name": "stdout",
          "text": [
            "[1 0 3 2 4]\n"
          ]
        }
      ]
    },
    {
      "cell_type": "code",
      "metadata": {
        "colab": {
          "base_uri": "https://localhost:8080/"
        },
        "id": "dDlaOfEgo1cv",
        "outputId": "281d7a74-a323-43b0-8b15-b9282d09deca"
      },
      "source": [
        " x[i]"
      ],
      "execution_count": 361,
      "outputs": [
        {
          "output_type": "execute_result",
          "data": {
            "text/plain": [
              "array([1, 2, 3, 4, 5])"
            ]
          },
          "metadata": {},
          "execution_count": 361
        }
      ]
    },
    {
      "cell_type": "code",
      "metadata": {
        "colab": {
          "base_uri": "https://localhost:8080/"
        },
        "id": "iPyEMjyeo1iJ",
        "outputId": "686a1107-3ba9-4d32-effb-17d5bf4243dd"
      },
      "source": [
        "rand = np.random.RandomState(42)\n",
        "X = rand.randint(0, 10, (4, 6))\n",
        "print(X)"
      ],
      "execution_count": 362,
      "outputs": [
        {
          "output_type": "stream",
          "name": "stdout",
          "text": [
            "[[6 3 7 4 6 9]\n",
            " [2 6 7 4 3 7]\n",
            " [7 2 5 4 1 7]\n",
            " [5 1 4 0 9 5]]\n"
          ]
        }
      ]
    },
    {
      "cell_type": "code",
      "metadata": {
        "colab": {
          "base_uri": "https://localhost:8080/"
        },
        "id": "qVN2gEabpINc",
        "outputId": "c97c97f5-d9bb-4596-f08c-1e4084c8cb44"
      },
      "source": [
        " # sort each column of X\n",
        "np.sort(X, axis=0)"
      ],
      "execution_count": 363,
      "outputs": [
        {
          "output_type": "execute_result",
          "data": {
            "text/plain": [
              "array([[2, 1, 4, 0, 1, 5],\n",
              "       [5, 2, 5, 4, 3, 7],\n",
              "       [6, 3, 7, 4, 6, 7],\n",
              "       [7, 6, 7, 4, 9, 9]])"
            ]
          },
          "metadata": {},
          "execution_count": 363
        }
      ]
    },
    {
      "cell_type": "code",
      "metadata": {
        "colab": {
          "base_uri": "https://localhost:8080/"
        },
        "id": "W9TLV4LspdWN",
        "outputId": "3ce176ad-1fc8-48dc-a0a5-4ce11115726c"
      },
      "source": [
        "# sort each row of X\n",
        "np.sort(X, axis=1)"
      ],
      "execution_count": 364,
      "outputs": [
        {
          "output_type": "execute_result",
          "data": {
            "text/plain": [
              "array([[3, 4, 6, 6, 7, 9],\n",
              "       [2, 3, 4, 6, 7, 7],\n",
              "       [1, 2, 4, 5, 7, 7],\n",
              "       [0, 1, 4, 5, 5, 9]])"
            ]
          },
          "metadata": {},
          "execution_count": 364
        }
      ]
    },
    {
      "cell_type": "code",
      "metadata": {
        "colab": {
          "base_uri": "https://localhost:8080/"
        },
        "id": "h55HTsripdb6",
        "outputId": "f7121340-2466-4c6d-dca8-dd763daff43d"
      },
      "source": [
        "#Partial Sorts: Partitioning\n",
        "x = np.array([7, 2, 3, 1, 6, 5, 4])\n",
        "np.partition(x, 3)"
      ],
      "execution_count": 365,
      "outputs": [
        {
          "output_type": "execute_result",
          "data": {
            "text/plain": [
              "array([2, 1, 3, 4, 6, 5, 7])"
            ]
          },
          "metadata": {},
          "execution_count": 365
        }
      ]
    },
    {
      "cell_type": "code",
      "metadata": {
        "colab": {
          "base_uri": "https://localhost:8080/"
        },
        "id": "YVwNDHN5pdee",
        "outputId": "2e0ee2ad-bdc5-45e8-9d10-ac1e755c005d"
      },
      "source": [
        "np.partition(X, 2, axis=1)"
      ],
      "execution_count": 366,
      "outputs": [
        {
          "output_type": "execute_result",
          "data": {
            "text/plain": [
              "array([[3, 4, 6, 7, 6, 9],\n",
              "       [2, 3, 4, 7, 6, 7],\n",
              "       [1, 2, 4, 5, 7, 7],\n",
              "       [0, 1, 4, 5, 9, 5]])"
            ]
          },
          "metadata": {},
          "execution_count": 366
        }
      ]
    },
    {
      "cell_type": "code",
      "metadata": {
        "id": "4Wi9PeeFpdjj"
      },
      "source": [
        "#k-Nearest Neighbors\n",
        "X = rand.rand(10, 2)"
      ],
      "execution_count": 367,
      "outputs": []
    },
    {
      "cell_type": "code",
      "metadata": {
        "colab": {
          "base_uri": "https://localhost:8080/",
          "height": 268
        },
        "id": "KQrbzgVwp0p9",
        "outputId": "326d0a41-eb5f-4c6c-a0f0-57c61a3c5072"
      },
      "source": [
        "%matplotlib inline\n",
        "import matplotlib.pyplot as plt\n",
        "import seaborn; seaborn.set() # Plot styling\n",
        "plt.scatter(X[:, 0], X[:, 1], s=100);"
      ],
      "execution_count": 368,
      "outputs": [
        {
          "output_type": "display_data",
          "data": {
            "image/png": "[encoded data removed]",
            "text/plain": [
              "<Figure size 432x288 with 1 Axes>"
            ]
          },
          "metadata": {}
        }
      ]
    },
    {
      "cell_type": "code",
      "metadata": {
        "id": "tws7v-7pp9dG"
      },
      "source": [
        "dist_sq = np.sum((X[:,np.newaxis,:] - X[np.newaxis,:,:]) ** 2, axis=-1)\n"
      ],
      "execution_count": 369,
      "outputs": []
    },
    {
      "cell_type": "code",
      "metadata": {
        "colab": {
          "base_uri": "https://localhost:8080/"
        },
        "id": "yZlRN-00p9ls",
        "outputId": "ea4f0c62-520b-4e2c-87f9-0616c5263e65"
      },
      "source": [
        "# for each pair of points, compute differences in their coordinates\n",
        "differences = X[:, np.newaxis, :] - X[np.newaxis, :, :]\n",
        "differences.shape"
      ],
      "execution_count": 370,
      "outputs": [
        {
          "output_type": "execute_result",
          "data": {
            "text/plain": [
              "(10, 10, 2)"
            ]
          },
          "metadata": {},
          "execution_count": 370
        }
      ]
    },
    {
      "cell_type": "code",
      "metadata": {
        "colab": {
          "base_uri": "https://localhost:8080/"
        },
        "id": "_YwCDE_gp9rK",
        "outputId": "7de9c63d-4f1c-4283-b00a-76e1fc8c7ffb"
      },
      "source": [
        "# square the coordinate differences\n",
        "sq_differences = differences ** 2\n",
        "sq_differences.shape"
      ],
      "execution_count": 371,
      "outputs": [
        {
          "output_type": "execute_result",
          "data": {
            "text/plain": [
              "(10, 10, 2)"
            ]
          },
          "metadata": {},
          "execution_count": 371
        }
      ]
    },
    {
      "cell_type": "code",
      "metadata": {
        "colab": {
          "base_uri": "https://localhost:8080/"
        },
        "id": "YnOQ2IQdp95a",
        "outputId": "c47cd826-ece4-4dc3-e5d1-5135bbf83c2c"
      },
      "source": [
        "# sum the coordinate differences to get the squared distance\n",
        "dist_sq = sq_differences.sum(-1)\n",
        "dist_sq.shape"
      ],
      "execution_count": 372,
      "outputs": [
        {
          "output_type": "execute_result",
          "data": {
            "text/plain": [
              "(10, 10)"
            ]
          },
          "metadata": {},
          "execution_count": 372
        }
      ]
    },
    {
      "cell_type": "code",
      "metadata": {
        "colab": {
          "base_uri": "https://localhost:8080/"
        },
        "id": "HSMaIIvlqLye",
        "outputId": "6c5c2a5a-a409-46ea-9331-69e009de04a7"
      },
      "source": [
        "dist_sq.diagonal()"
      ],
      "execution_count": 373,
      "outputs": [
        {
          "output_type": "execute_result",
          "data": {
            "text/plain": [
              "array([0., 0., 0., 0., 0., 0., 0., 0., 0., 0.])"
            ]
          },
          "metadata": {},
          "execution_count": 373
        }
      ]
    },
    {
      "cell_type": "code",
      "metadata": {
        "colab": {
          "base_uri": "https://localhost:8080/"
        },
        "id": "CeMRAZsOqOOt",
        "outputId": "6bcecb5f-e1be-48b5-b775-135b7a7e2c98"
      },
      "source": [
        "nearest = np.argsort(dist_sq, axis=1)\n",
        "print(nearest)"
      ],
      "execution_count": 374,
      "outputs": [
        {
          "output_type": "stream",
          "name": "stdout",
          "text": [
            "[[0 3 9 7 1 4 2 5 6 8]\n",
            " [1 4 7 9 3 6 8 5 0 2]\n",
            " [2 1 4 6 3 0 8 9 7 5]\n",
            " [3 9 7 0 1 4 5 8 6 2]\n",
            " [4 1 8 5 6 7 9 3 0 2]\n",
            " [5 8 6 4 1 7 9 3 2 0]\n",
            " [6 8 5 4 1 7 9 3 2 0]\n",
            " [7 9 3 1 4 0 5 8 6 2]\n",
            " [8 5 6 4 1 7 9 3 2 0]\n",
            " [9 7 3 0 1 4 5 8 6 2]]\n"
          ]
        }
      ]
    },
    {
      "cell_type": "code",
      "metadata": {
        "id": "arm7UMWGqOmW"
      },
      "source": [
        "K = 2\n",
        "nearest_partition = np.argpartition(dist_sq, K + 1, axis=1)"
      ],
      "execution_count": 375,
      "outputs": []
    },
    {
      "cell_type": "code",
      "metadata": {
        "colab": {
          "base_uri": "https://localhost:8080/",
          "height": 268
        },
        "id": "fXFDUid4qOpE",
        "outputId": "a8adb518-29e7-4519-d427-1e299d6927d0"
      },
      "source": [
        "plt.scatter(X[:, 0], X[:, 1], s=100)\n",
        "# draw lines from each point to its two nearest neighbors\n",
        "K = 2\n",
        "\n",
        "for i in range(X.shape[0]):\n",
        " for j in nearest_partition[i, :K+1]:\n",
        "# plot a line from X[i] to X[j]\n",
        "# use some zip magic to make it happen:\n",
        "  plt.plot(*zip(X[j], X[i]), color='black')"
      ],
      "execution_count": 378,
      "outputs": [
        {
          "output_type": "display_data",
          "data": {
            "image/png": "[encoded data removed]",
            "text/plain": [
              "<Figure size 432x288 with 1 Axes>"
            ]
          },
          "metadata": {}
        }
      ]
    },
    {
      "cell_type": "code",
      "metadata": {
        "id": "E9ZkZq9eqOrz"
      },
      "source": [
        "#NumPy’s Structured Arrays\n",
        "name = ['Alice', 'Bob', 'Cathy', 'Doug']\n",
        "age = [25, 45, 37, 19]\n",
        "weight = [55.0, 85.5, 68.0, 61.5]"
      ],
      "execution_count": 379,
      "outputs": []
    },
    {
      "cell_type": "code",
      "metadata": {
        "id": "ZYYk21ChqOvi"
      },
      "source": [
        "x = np.zeros(4, dtype=int)"
      ],
      "execution_count": 380,
      "outputs": []
    },
    {
      "cell_type": "code",
      "metadata": {
        "colab": {
          "base_uri": "https://localhost:8080/"
        },
        "id": "LLJRiKfJqOzG",
        "outputId": "6580b871-2eb6-4720-cded-8a1c50ee4d28"
      },
      "source": [
        "# Use a compound data type for structured arrays\n",
        "data = np.zeros(4, dtype={'names':('name', 'age', 'weight'),'formats':('U10', 'i4', 'f8')})\n",
        "print(data.dtype)"
      ],
      "execution_count": 381,
      "outputs": [
        {
          "output_type": "stream",
          "name": "stdout",
          "text": [
            "[('name', '<U10'), ('age', '<i4'), ('weight', '<f8')]\n"
          ]
        }
      ]
    },
    {
      "cell_type": "code",
      "metadata": {
        "colab": {
          "base_uri": "https://localhost:8080/"
        },
        "id": "GF1ohwpLqO6t",
        "outputId": "6a5fdc31-8433-4263-a1a7-a32cd1b59132"
      },
      "source": [
        "data['name'] = name\n",
        "data['age'] = age\n",
        "data['weight'] = weight\n",
        "print(data)"
      ],
      "execution_count": 382,
      "outputs": [
        {
          "output_type": "stream",
          "name": "stdout",
          "text": [
            "[('Alice', 25, 55. ) ('Bob', 45, 85.5) ('Cathy', 37, 68. )\n",
            " ('Doug', 19, 61.5)]\n"
          ]
        }
      ]
    },
    {
      "cell_type": "code",
      "metadata": {
        "colab": {
          "base_uri": "https://localhost:8080/"
        },
        "id": "6HUVrQVXqPHM",
        "outputId": "a228e9f4-c992-42d9-c1ea-12cd6276eb6f"
      },
      "source": [
        "# Get all names\n",
        "data['name']"
      ],
      "execution_count": 383,
      "outputs": [
        {
          "output_type": "execute_result",
          "data": {
            "text/plain": [
              "array(['Alice', 'Bob', 'Cathy', 'Doug'], dtype='<U10')"
            ]
          },
          "metadata": {},
          "execution_count": 383
        }
      ]
    },
    {
      "cell_type": "code",
      "metadata": {
        "colab": {
          "base_uri": "https://localhost:8080/"
        },
        "id": "Nq8GjsMqqPRr",
        "outputId": "de0361da-3469-44b8-9563-0783ca5ec055"
      },
      "source": [
        "# Get first row of data\n",
        "data[0]"
      ],
      "execution_count": 384,
      "outputs": [
        {
          "output_type": "execute_result",
          "data": {
            "text/plain": [
              "('Alice', 25, 55.)"
            ]
          },
          "metadata": {},
          "execution_count": 384
        }
      ]
    },
    {
      "cell_type": "code",
      "metadata": {
        "colab": {
          "base_uri": "https://localhost:8080/",
          "height": 35
        },
        "id": "SdCu61tgq7p-",
        "outputId": "d1f31428-cdb9-42b7-8728-fbd4cbd86140"
      },
      "source": [
        "# Get the name from the last row\n",
        "data[-1]['name']"
      ],
      "execution_count": 385,
      "outputs": [
        {
          "output_type": "execute_result",
          "data": {
            "application/vnd.google.colaboratory.intrinsic+json": {
              "type": "string"
            },
            "text/plain": [
              "'Doug'"
            ]
          },
          "metadata": {},
          "execution_count": 385
        }
      ]
    },
    {
      "cell_type": "code",
      "metadata": {
        "colab": {
          "base_uri": "https://localhost:8080/"
        },
        "id": "QXWwAVb7q7s0",
        "outputId": "210814ac-b5ee-4285-df1f-55ddd7cc7ade"
      },
      "source": [
        "# Get names where age is under 30\n",
        "data[data['age'] < 30]['name']"
      ],
      "execution_count": 386,
      "outputs": [
        {
          "output_type": "execute_result",
          "data": {
            "text/plain": [
              "array(['Alice', 'Doug'], dtype='<U10')"
            ]
          },
          "metadata": {},
          "execution_count": 386
        }
      ]
    },
    {
      "cell_type": "code",
      "metadata": {
        "colab": {
          "base_uri": "https://localhost:8080/"
        },
        "id": "33gNvkcSq7wZ",
        "outputId": "c116774e-92a7-43d2-d452-5756dd5b171d"
      },
      "source": [
        "#Creating Structured Arrays\n",
        "np.dtype({'names':('name', 'age', 'weight'),'formats':('U10', 'i4', 'f8')})"
      ],
      "execution_count": 387,
      "outputs": [
        {
          "output_type": "execute_result",
          "data": {
            "text/plain": [
              "dtype([('name', '<U10'), ('age', '<i4'), ('weight', '<f8')])"
            ]
          },
          "metadata": {},
          "execution_count": 387
        }
      ]
    },
    {
      "cell_type": "code",
      "metadata": {
        "colab": {
          "base_uri": "https://localhost:8080/"
        },
        "id": "CPH8lYkGq703",
        "outputId": "03be7e5b-eec4-4601-81e2-3647c3b36f96"
      },
      "source": [
        "np.dtype({'names':('name', 'age', 'weight'),'formats':((np.str_, 10), int, np.float32)})"
      ],
      "execution_count": 388,
      "outputs": [
        {
          "output_type": "execute_result",
          "data": {
            "text/plain": [
              "dtype([('name', '<U10'), ('age', '<i8'), ('weight', '<f4')])"
            ]
          },
          "metadata": {},
          "execution_count": 388
        }
      ]
    },
    {
      "cell_type": "code",
      "metadata": {
        "colab": {
          "base_uri": "https://localhost:8080/"
        },
        "id": "PZguWa9Sq75b",
        "outputId": "70b01a5c-aae2-4437-c74c-abc09e569035"
      },
      "source": [
        "#A compound type can also be specified as a list of tuples:\n",
        "np.dtype([('name', 'S10'), ('age', 'i4'), ('weight', 'f8')])"
      ],
      "execution_count": 389,
      "outputs": [
        {
          "output_type": "execute_result",
          "data": {
            "text/plain": [
              "dtype([('name', 'S10'), ('age', '<i4'), ('weight', '<f8')])"
            ]
          },
          "metadata": {},
          "execution_count": 389
        }
      ]
    },
    {
      "cell_type": "code",
      "metadata": {
        "colab": {
          "base_uri": "https://localhost:8080/"
        },
        "id": "YWz_MAL2q79M",
        "outputId": "33fc419d-f26a-4fd0-e7c9-9f6d4d27188f"
      },
      "source": [
        "np.dtype('S10,i4,f8')"
      ],
      "execution_count": 390,
      "outputs": [
        {
          "output_type": "execute_result",
          "data": {
            "text/plain": [
              "dtype([('f0', 'S10'), ('f1', '<i4'), ('f2', '<f8')])"
            ]
          },
          "metadata": {},
          "execution_count": 390
        }
      ]
    },
    {
      "cell_type": "code",
      "metadata": {
        "colab": {
          "base_uri": "https://localhost:8080/"
        },
        "id": "_KtLSlZjq8DT",
        "outputId": "14341f8c-b2c4-48ad-fa1a-c6630d3c789d"
      },
      "source": [
        "#More Advanced Compound Types\n",
        "tp = np.dtype([('id', 'i8'), ('mat', 'f8', (3, 3))])\n",
        "X = np.zeros(1, dtype=tp)\n",
        "print(X[0])\n",
        "print(X['mat'][0])"
      ],
      "execution_count": 391,
      "outputs": [
        {
          "output_type": "stream",
          "name": "stdout",
          "text": [
            "(0, [[0., 0., 0.], [0., 0., 0.], [0., 0., 0.]])\n",
            "[[0. 0. 0.]\n",
            " [0. 0. 0.]\n",
            " [0. 0. 0.]]\n"
          ]
        }
      ]
    },
    {
      "cell_type": "code",
      "metadata": {
        "colab": {
          "base_uri": "https://localhost:8080/"
        },
        "id": "wVEM4Lwwq8LK",
        "outputId": "8355153a-82e7-4cfc-ab75-9b306b9ee302"
      },
      "source": [
        "#RecordArrays: Structured Arrays with a Twist\n",
        "data['age']"
      ],
      "execution_count": 392,
      "outputs": [
        {
          "output_type": "execute_result",
          "data": {
            "text/plain": [
              "array([25, 45, 37, 19], dtype=int32)"
            ]
          },
          "metadata": {},
          "execution_count": 392
        }
      ]
    },
    {
      "cell_type": "code",
      "metadata": {
        "colab": {
          "base_uri": "https://localhost:8080/"
        },
        "id": "3psXVUloq8Rn",
        "outputId": "182b2f86-f06b-455f-ade1-b3d174a118cd"
      },
      "source": [
        "data_rec = data.view(np.recarray)\n",
        "data_rec.age"
      ],
      "execution_count": 393,
      "outputs": [
        {
          "output_type": "execute_result",
          "data": {
            "text/plain": [
              "array([25, 45, 37, 19], dtype=int32)"
            ]
          },
          "metadata": {},
          "execution_count": 393
        }
      ]
    },
    {
      "cell_type": "code",
      "metadata": {
        "colab": {
          "base_uri": "https://localhost:8080/"
        },
        "id": "hWvJRQchrsVe",
        "outputId": "1e33be0c-ad54-4838-c0c1-6490dbbb1973"
      },
      "source": [
        "%timeit data['age']\n",
        "%timeit data_rec['age']\n",
        "%timeit data_rec.age"
      ],
      "execution_count": 394,
      "outputs": [
        {
          "output_type": "stream",
          "name": "stdout",
          "text": [
            "The slowest run took 47.45 times longer than the fastest. This could mean that an intermediate result is being cached.\n",
            "1000000 loops, best of 5: 199 ns per loop\n",
            "The slowest run took 8.45 times longer than the fastest. This could mean that an intermediate result is being cached.\n",
            "100000 loops, best of 5: 3.16 µs per loop\n",
            "The slowest run took 5.10 times longer than the fastest. This could mean that an intermediate result is being cached.\n",
            "100000 loops, best of 5: 4.06 µs per loop\n"
          ]
        }
      ]
    }
  ]
}